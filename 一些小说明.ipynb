{
 "cells": [
  {
   "cell_type": "code",
   "execution_count": null,
   "metadata": {},
   "outputs": [],
   "source": [
    "## %run运行其他已存在的程序\n",
    "## Jupter中也可以用%load\n",
    "%run hello_world.py"
   ]
  },
  {
   "cell_type": "code",
   "execution_count": null,
   "metadata": {},
   "outputs": [],
   "source": [
    "## Tab补全器：输入过程中，按下Tab键会搜索已有的变量、对象、函数等（类似pycharm自动补全列表）\n",
    "apple = 'apple'\n",
    "am = ['amanda', 'aaa']\n",
    "# 例1：a<Tab>，则会出现apple、am、abs、all等选项\n",
    "# 例2：am.<Tab>，则会出现append、insert、pop等选项"
   ]
  },
  {
   "cell_type": "code",
   "execution_count": null,
   "metadata": {},
   "outputs": [],
   "source": [
    "## 每种类型数据的最值\n",
    "import numpy as np\n",
    "\n",
    "print(np.iinfo(np.int64))\n",
    "print(np.iinfo(np.int32))\n",
    "print(np.iinfo(np.uint16))\n",
    "print(np.finfo(np.float64))\n",
    "print(np.finfo(np.float16))"
   ]
  },
  {
   "cell_type": "code",
   "execution_count": 4,
   "metadata": {},
   "outputs": [],
   "source": [
    "# 自省：在变量前后使用问号？，可显示对象的信息;\n",
    "# 2个？？则显示函数的源码；\n",
    "# ？还有一个作用，就是像windows命令行一样搜索IPython的命名空间\n",
    "b  = [1, 2, 3]\n",
    "b?\n",
    "\n",
    "def add_numbers(a, b):\n",
    "    \"\"\"to calculate the sum of two numbers\"\"\"\n",
    "    \n",
    "    return a + b\n",
    "add_numbers?"
   ]
  },
  {
   "cell_type": "code",
   "execution_count": 5,
   "metadata": {},
   "outputs": [
    {
     "data": {
      "text/plain": [
       "3"
      ]
     },
     "execution_count": 5,
     "metadata": {},
     "output_type": "execute_result"
    }
   ],
   "source": [
    "c = \"\"\"\n",
    "This is a long string\n",
    "that spans multiple lines.\n",
    "\"\"\"\n",
    "# 可用count计算字符串新的行数\n",
    "c.count('\\n')"
   ]
  },
  {
   "cell_type": "code",
   "execution_count": 11,
   "metadata": {},
   "outputs": [
    {
     "name": "stdout",
     "output_type": "stream",
     "text": [
      "3\n",
      "1 2\n"
     ]
    }
   ],
   "source": [
    "## 元组拆分\n",
    "# 例1\n",
    "tup = (1, 2, 3, 4)\n",
    "a, b, c, d = tup\n",
    "print(c)\n",
    "\n",
    "# 例2：不需要的变量使用下划线_\n",
    "tup_2 = 1, 2, 3, 4, 5, 6\n",
    "e, f, *_ = tup_2\n",
    "print(e, f)\n"
   ]
  },
  {
   "cell_type": "code",
   "execution_count": 1,
   "metadata": {},
   "outputs": [
    {
     "name": "stdout",
     "output_type": "stream",
     "text": [
      "<zip object at 0x000002B04A354908> \n",
      " [('aa', 'bb', 'cc'), ('aaa', 'bbb', 'ccc'), ('aaaa', 'bbbb', 'cccc')]\n"
     ]
    }
   ],
   "source": [
    "## 函数zip()\n",
    "a_1 = ['aa', 'aaa', 'aaaa']\n",
    "b_1 = ['bb', 'bbb', 'bbbb']\n",
    "c_1 = ['cc', 'ccc', 'cccc']\n",
    "d_1 = zip(a_1, b_1, c_1)\n",
    "d_2 = list(d_1)\n",
    "print(d_1, '\\n', d_2)"
   ]
  },
  {
   "cell_type": "code",
   "execution_count": 18,
   "metadata": {},
   "outputs": [
    {
     "name": "stdout",
     "output_type": "stream",
     "text": [
      "{'a': 'string', 'b': 'new', 7: 'an integer'}\n"
     ]
    }
   ],
   "source": [
    "## 字典的更新：update\n",
    "dict_1 = {'a': 'string', 'b': [1, 2, 3], 7: 'an integer'}\n",
    "dict_1.update({'b': 'new'})\n",
    "print(dict_1)"
   ]
  },
  {
   "cell_type": "code",
   "execution_count": null,
   "metadata": {},
   "outputs": [],
   "source": [
    "## 柯里化\n"
   ]
  },
  {
   "cell_type": "code",
   "execution_count": 5,
   "metadata": {},
   "outputs": [
    {
     "name": "stdout",
     "output_type": "stream",
     "text": [
      "nan \n",
      "\n",
      "nan \n",
      "\n",
      "False \n",
      "\n",
      "True \n",
      "\n"
     ]
    }
   ],
   "source": [
    "## nan: not a number\n",
    "## dtype=float64\n",
    "## 有nan参与的运算，其结果也一定是nan\n",
    "## nan不是数，无法进行比较运算\n",
    "## nan在nan字典中\n",
    "\n",
    "import numpy as np\n",
    "\n",
    "print(0 * np.nan, '\\n')\n",
    "print(np.nan - np.nan, '\\n')\n",
    "print(np.nan == np.nan, '\\n')\n",
    "print(np.nan in {np.nan}, '\\n')"
   ]
  },
  {
   "cell_type": "code",
   "execution_count": 6,
   "metadata": {},
   "outputs": [
    {
     "name": "stdout",
     "output_type": "stream",
     "text": [
      "True \n",
      "\n",
      "False \n",
      "\n",
      "True \n",
      "\n"
     ]
    }
   ],
   "source": [
    "## 浮点数可以比较大小，但相等需要使用math.iscolse\n",
    "print(0.3 > 0.2, '\\n')\n",
    "print(0.3 == 0.1 * 3, '\\n')\n",
    "import math\n",
    "print(math.isclose(0.3, 0.1 * 3), '\\n')"
   ]
  },
  {
   "cell_type": "code",
   "execution_count": null,
   "metadata": {},
   "outputs": [],
   "source": [
    "## 包含yield的函数在Python里就是一个生成器，其功能是在yield的区域进行迭代处理"
   ]
  },
  {
   "cell_type": "code",
   "execution_count": null,
   "metadata": {},
   "outputs": [],
   "source": [
    "## 滑动窗口：连续几个一运算"
   ]
  }
 ],
 "metadata": {
  "kernelspec": {
   "display_name": "Python 3",
   "language": "python",
   "name": "python3"
  },
  "language_info": {
   "codemirror_mode": {
    "name": "ipython",
    "version": 3
   },
   "file_extension": ".py",
   "mimetype": "text/x-python",
   "name": "python",
   "nbconvert_exporter": "python",
   "pygments_lexer": "ipython3",
   "version": "3.7.4"
  }
 },
 "nbformat": 4,
 "nbformat_minor": 2
}
