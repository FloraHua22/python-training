{
 "cells": [
  {
   "cell_type": "code",
   "execution_count": 2,
   "metadata": {},
   "outputs": [
    {
     "name": "stdout",
     "output_type": "stream",
     "text": [
      "1.16.5\n"
     ]
    }
   ],
   "source": [
    "import numpy as np\n",
    "\n",
    "print(np.__version__)\n",
    "np.show_config()"
   ]
  },
  {
   "cell_type": "code",
   "execution_count": null,
   "metadata": {},
   "outputs": [],
   "source": [
    "import numpy as np\n",
    "\n",
    "## 查看数组占用内存大小：每个元素点占用内存大小*元素个数\n",
    "print(a1.itemsize * a1.size, '\\n')\n",
    "\n",
    "## 查看函数使用说明\n",
    "np.info(np.add)"
   ]
  },
  {
   "cell_type": "code",
   "execution_count": 9,
   "metadata": {},
   "outputs": [
    {
     "name": "stdout",
     "output_type": "stream",
     "text": [
      "[8.02678500e-095 2.04726324e+190 5.04620680e+180 6.01346953e-154\n",
      " 1.00000000e+000 3.44904966e+175 3.44361317e-086 6.01334434e-154\n",
      " 3.68777421e+180 4.46811730e-091]\n",
      "[[2. 2. 2.]\n",
      " [2. 2. 2.]] \n",
      "\n",
      "[8.02678500e-095 2.04726324e+190 5.04620680e+180 6.01346953e-154\n",
      " 1.00000000e+000 3.44904966e+175 3.44361317e-086 6.01334434e-154\n",
      " 3.68777421e+180 4.46811730e-091] \n",
      "\n",
      "[10 11 12 13 14 15 16 17 18 19 20 21 22 23 24 25 26 27 28 29 30 31 32 33\n",
      " 34 35 36 37 38 39 40 41 42 43 44 45 46 47 48 49]\n"
     ]
    }
   ],
   "source": [
    "## 创建向量\n",
    "\n",
    "import numpy as np\n",
    "\n",
    "a1 = np.empty(10)\n",
    "print(a1)\n",
    "print(np.full((2,3),2.0), '\\n')\n",
    "\n",
    "a1[4] = 1\n",
    "print(a1, '\\n')\n",
    "\n",
    "# 10-49\n",
    "a2 = np.arange(10, 50)\n",
    "print(a2, '\\n')"
   ]
  },
  {
   "cell_type": "code",
   "execution_count": 15,
   "metadata": {
    "scrolled": true
   },
   "outputs": [
    {
     "name": "stdout",
     "output_type": "stream",
     "text": [
      "[0 1 2 3 4 5 6 7 8] \n",
      "\n",
      "[8 7 6 5 4 3 2 1 0] \n",
      "\n",
      "[[0 1 2]\n",
      " [3 4 5]\n",
      " [6 7 8]] \n",
      "\n",
      "(array([0, 1, 4], dtype=int64),) \n",
      "\n",
      "[[1. 0. 0.]\n",
      " [0. 1. 0.]\n",
      " [0. 0. 1.]] \n",
      "\n"
     ]
    }
   ],
   "source": [
    "## 创建数组\n",
    "import numpy as np\n",
    "\n",
    "# 数组顺序颠倒\n",
    "a1 = np.arange(9)\n",
    "print(a1, '\\n')\n",
    "a2 = a1[::-1]\n",
    "print(a2, '\\n')\n",
    "\n",
    "# 变形\n",
    "a3 = a1.reshape(3,-1)\n",
    "print(a3, '\\n')\n",
    "\n",
    "# 寻找非0元素的下标\n",
    "a4 = np.array([1, 2, 0, 0, 4, 0])\n",
    "print(np.nonzero(a4), '\\n')\n",
    "\n",
    "# 3*3对角矩阵\n",
    "print(np.identity(3), '\\n')"
   ]
  },
  {
   "cell_type": "code",
   "execution_count": 4,
   "metadata": {},
   "outputs": [
    {
     "name": "stdout",
     "output_type": "stream",
     "text": [
      "[[[0.34919302 0.50244636 0.98809189]\n",
      "  [0.07357359 0.41561192 0.04154419]\n",
      "  [0.49435426 0.00747729 0.8821467 ]]\n",
      "\n",
      " [[0.74268112 0.30971062 0.37906558]\n",
      "  [0.40654633 0.34156529 0.72856273]\n",
      "  [0.20537825 0.13396622 0.77928034]]\n",
      "\n",
      " [[0.21045076 0.30398463 0.50374368]\n",
      "  [0.15437232 0.30026356 0.78087049]\n",
      "  [0.947003   0.74742654 0.24366284]]] \n",
      "\n",
      "0.9880918909639878 0.007477287929199994 \n",
      "\n",
      "*****************\n",
      "[0.76768747 0.47965676 0.54270934 0.43322669 0.71611399 0.18656464\n",
      " 0.34640997 0.08724026 0.16369606 0.72101645 0.49554493 0.14937649\n",
      " 0.72325585 0.79698943 0.75231449 0.82042853 0.02802524 0.20581604\n",
      " 0.78152668 0.46401133 0.09299232 0.03879453 0.3864273  0.88573252\n",
      " 0.13067556 0.56535831 0.15676942 0.1126945  0.06287414 0.09373558] \n",
      "\n",
      "0.40625549364005076 \n",
      "\n"
     ]
    }
   ],
   "source": [
    "## 随机数\n",
    "import numpy as np\n",
    "\n",
    "a1 = np.random.random((3, 3, 3))\n",
    "print(a1, '\\n')\n",
    "print(a1.max(), np.min(a1), '\\n')\n",
    "print('*****************')\n",
    "\n",
    "a2 = np.random.random(30)\n",
    "print(a2, '\\n')\n",
    "print(a2.mean(), '\\n')\n",
    "print('*****************')"
   ]
  },
  {
   "cell_type": "code",
   "execution_count": 22,
   "metadata": {},
   "outputs": [
    {
     "name": "stdout",
     "output_type": "stream",
     "text": [
      "[[1. 1. 1. 1. 1. 1.]\n",
      " [1. 1. 1. 1. 1. 1.]\n",
      " [1. 1. 1. 1. 1. 1.]\n",
      " [1. 1. 1. 1. 1. 1.]\n",
      " [1. 1. 1. 1. 1. 1.]] \n",
      "\n",
      "[[1. 1. 1. 1. 1. 1.]\n",
      " [1. 0. 0. 0. 0. 1.]\n",
      " [1. 0. 0. 0. 0. 1.]\n",
      " [1. 0. 0. 0. 0. 1.]\n",
      " [1. 1. 1. 1. 1. 1.]] \n",
      "\n",
      "******************\n",
      "\n",
      "[[0. 0. 0. 0. 0. 0. 0. 0.]\n",
      " [0. 1. 1. 1. 1. 1. 1. 0.]\n",
      " [0. 1. 0. 0. 0. 0. 1. 0.]\n",
      " [0. 1. 0. 0. 0. 0. 1. 0.]\n",
      " [0. 1. 0. 0. 0. 0. 1. 0.]\n",
      " [0. 1. 1. 1. 1. 1. 1. 0.]\n",
      " [0. 0. 0. 0. 0. 0. 0. 0.]]\n"
     ]
    }
   ],
   "source": [
    "import numpy as np\n",
    "\n",
    "# 2D矩阵，边为1，其余为0\n",
    "a1 = np.ones((5,6))\n",
    "print(a1, '\\n')\n",
    "a1[1:-1,1:-1] = 0\n",
    "print(a1, '\\n')\n",
    "print('******************\\n')\n",
    "\n",
    "# 扩展数组边界：2D矩阵四周添加一层0\n",
    "print(np.pad(a1, 1, 'constant', constant_values=0), '\\n')"
   ]
  },
  {
   "cell_type": "code",
   "execution_count": 26,
   "metadata": {},
   "outputs": [
    {
     "name": "stdout",
     "output_type": "stream",
     "text": [
      "nan \n",
      "\n",
      "nan \n",
      "\n",
      "False \n",
      "\n",
      "True \n",
      "\n",
      "*******************\n",
      "\n",
      "True \n",
      "\n",
      "False \n",
      "\n",
      "True \n",
      "\n"
     ]
    }
   ],
   "source": [
    "## nan\n",
    "import numpy as np\n",
    "\n",
    "print(0 * np.nan, '\\n')\n",
    "print(np.nan - np.nan, '\\n')\n",
    "print(np.nan == np.nan, '\\n')\n",
    "print(np.nan in {np.nan}, '\\n')\n",
    "print('*******************\\n')\n",
    "\n",
    "## 浮点数可以比较大小，但相等需要使用math.iscolse\n",
    "print(0.3 > 0.2, '\\n')\n",
    "print(0.3 == 0.1 * 3, '\\n')\n",
    "import math\n",
    "print(math.isclose(0.3, 0.1 * 3), '\\n')\n",
    "print('*******************\\n')\n",
    "\n",
    "\n",
    "print(np.array(np.nan))\n",
    "print(np.array(np.nan).dtype)\n",
    "print(np.array(np.nan).astype(int))\n",
    "print(np.array(np.nan).astype(int).astype(float))"
   ]
  },
  {
   "cell_type": "code",
   "execution_count": 164,
   "metadata": {
    "scrolled": true
   },
   "outputs": [
    {
     "name": "stdout",
     "output_type": "stream",
     "text": [
      "[[1 0 0 0]\n",
      " [0 2 0 0]\n",
      " [0 0 3 0]\n",
      " [0 0 0 4]] \n",
      "\n",
      "[[0 1 0 0 0]\n",
      " [0 0 2 0 0]\n",
      " [0 0 0 3 0]\n",
      " [0 0 0 0 4]\n",
      " [0 0 0 0 0]] \n",
      "\n",
      "[[0 0 0 0 0]\n",
      " [1 0 0 0 0]\n",
      " [0 2 0 0 0]\n",
      " [0 0 3 0 0]\n",
      " [0 0 0 4 0]] \n",
      "\n",
      "*************************\n",
      "\n",
      "[[1. 0. 1. 0. 1. 0. 1. 0.]\n",
      " [0. 0. 0. 0. 0. 0. 0. 0.]\n",
      " [1. 0. 1. 0. 1. 0. 1. 0.]\n",
      " [0. 0. 0. 0. 0. 0. 0. 0.]\n",
      " [1. 0. 1. 0. 1. 0. 1. 0.]\n",
      " [0. 0. 0. 0. 0. 0. 0. 0.]\n",
      " [1. 0. 1. 0. 1. 0. 1. 0.]\n",
      " [0. 0. 0. 0. 0. 0. 0. 0.]] \n",
      "\n",
      "[[1. 0. 1. 0. 1. 0. 1. 0.]\n",
      " [0. 1. 0. 1. 0. 1. 0. 1.]\n",
      " [1. 0. 1. 0. 1. 0. 1. 0.]\n",
      " [0. 1. 0. 1. 0. 1. 0. 1.]\n",
      " [1. 0. 1. 0. 1. 0. 1. 0.]\n",
      " [0. 1. 0. 1. 0. 1. 0. 1.]\n",
      " [1. 0. 1. 0. 1. 0. 1. 0.]\n",
      " [0. 1. 0. 1. 0. 1. 0. 1.]] \n",
      "\n",
      "*************************\n",
      "\n",
      "[[0 1 0 1 0 1 0 1]\n",
      " [1 0 1 0 1 0 1 0]\n",
      " [0 1 0 1 0 1 0 1]\n",
      " [1 0 1 0 1 0 1 0]\n",
      " [0 1 0 1 0 1 0 1]\n",
      " [1 0 1 0 1 0 1 0]\n",
      " [0 1 0 1 0 1 0 1]\n",
      " [1 0 1 0 1 0 1 0]] \n",
      "\n",
      "*************************\n",
      "\n",
      "[[0. 1. 2. 3. 4.]\n",
      " [0. 1. 2. 3. 4.]\n",
      " [0. 1. 2. 3. 4.]\n",
      " [0. 1. 2. 3. 4.]\n",
      " [0. 1. 2. 3. 4.]] \n",
      "\n",
      "[[0 1 2 3 4]\n",
      " [0 1 2 3 4]\n",
      " [0 1 2 3 4]\n",
      " [0 1 2 3 4]\n",
      " [0 1 2 3 4]] \n",
      "\n",
      "*************************\n",
      "\n",
      "[0.09090909 0.18181818 0.27272727 0.36363636 0.45454545 0.54545455\n",
      " 0.63636364 0.72727273 0.81818182 0.90909091]\n"
     ]
    }
   ],
   "source": [
    "## 创建特征矩阵\n",
    "import numpy as np\n",
    "\n",
    "# 对角线\n",
    "a1 = np.diag([1, 2, 3, 4])\n",
    "print(a1, '\\n')\n",
    "a2 = np.diag([1, 2, 3, 4], 1)\n",
    "print(a2, '\\n')\n",
    "a3 = np.diag([1, 2, 3, 4], -1)\n",
    "print(a3, '\\n')\n",
    "print('*************************\\n')\n",
    "\n",
    "# 类似国际象棋的方阵\n",
    "a4 = np.zeros((8, 8))\n",
    "a4[::2,::2] = 1\n",
    "print(a4, '\\n')\n",
    "a4[1::2,1::2] = 1\n",
    "print(a4, '\\n')\n",
    "print('*************************\\n')\n",
    "\n",
    "# 利用tile函数创建棋盘\n",
    "a5 = np.array([[0, 1],[1, 0]])\n",
    "print(np.tile(a5, (4, 4)), '\\n')\n",
    "print('*************************\\n')\n",
    "\n",
    "# 每行元素都在0-4\n",
    "a6 = np.zeros((5, 5))\n",
    "a6 += np.arange(5)  #广播\n",
    "print(a6, '\\n')\n",
    "\n",
    "print(np.tile(np.arange(5), (5,1)),'\\n')   #复制\n",
    "print('*************************\\n')\n",
    "\n",
    "# 0-1但不包含0和1\n",
    "a7 = np.linspace(0, 1, 11, endpoint=False)[1:]\n",
    "print(a7)"
   ]
  },
  {
   "cell_type": "code",
   "execution_count": 159,
   "metadata": {
    "scrolled": true
   },
   "outputs": [
    {
     "name": "stdout",
     "output_type": "stream",
     "text": [
      "[0. 1. 2. 3. 4. 5. 6. 7. 8. 9.]\n"
     ]
    }
   ],
   "source": [
    "# 通过生成器创建数组\n",
    "import numpy as np\n",
    "\n",
    "def generate():\n",
    "    for i in range(10):\n",
    "        yield i\n",
    "\n",
    "print(np.fromiter(generate(), float))"
   ]
  },
  {
   "cell_type": "code",
   "execution_count": 18,
   "metadata": {},
   "outputs": [
    {
     "name": "stdout",
     "output_type": "stream",
     "text": [
      "(1, 5, 4) \n",
      "\n",
      "(1, 5, 4) \n",
      "\n",
      "******************************\n",
      "\n",
      "[[0.65087075 0.22322956 0.67575171 0.96915732]\n",
      " [0.7265549  0.32587536 0.4515154  0.19325214]\n",
      " [0.93185539 0.94556109 0.59692125 0.1320514 ]] \n",
      "\n",
      "[[ 0.31833748 -0.10930371  0.34321844  0.63662406  0.39402164 -0.00665791\n",
      "   0.11898213 -0.13928113  0.59932212  0.61302782  0.26438798 -0.20048186]] \n",
      "\n",
      "(1, 1)\n",
      "0.3258753601722393\n"
     ]
    }
   ],
   "source": [
    "#找出第100个元素的下标\n",
    "import numpy as np\n",
    "\n",
    "a1 = np.random.random((6, 7, 8))\n",
    "print(np.unravel_index(100, a1.shape), '\\n')\n",
    "\n",
    "print(np.unravel_index(100, (6, 7, 8)), '\\n')\n",
    "print('******************************\\n')\n",
    "\n",
    "# 在数组中寻找与给定值最近的值\n",
    "a1 = np.random.random((3, 4))\n",
    "print(a1, '\\n')\n",
    "a2 = a1.reshape(1,-1) - np.random.random(1)\n",
    "print(a2, '\\n')\n",
    "print(np.unravel_index(np.abs(a2).argmin(), a1.shape))\n",
    "\n",
    "print(a1.flat[np.abs(a2).argmin()])"
   ]
  },
  {
   "cell_type": "code",
   "execution_count": 51,
   "metadata": {
    "scrolled": true
   },
   "outputs": [
    {
     "name": "stdout",
     "output_type": "stream",
     "text": [
      "[[1.82042298 4.62609173 3.21757366 8.68346425 0.32886921]\n",
      " [8.32401775 3.5711295  3.38581635 9.64709285 3.39790927]\n",
      " [6.13124794 8.76557226 8.00161661 5.63792514 1.66547973]\n",
      " [2.72724127 6.85739728 1.19194881 3.02564769 2.43812077]\n",
      " [8.82841449 7.97991472 4.40656778 0.65705012 0.54498831]] \n",
      "\n",
      "[[-0.95404386 -0.00283737 -0.48036756  1.37273451 -1.45972565]\n",
      " [ 1.25087129 -0.36050145 -0.4233282   1.69943372 -0.41922834]\n",
      " [ 0.50745606  1.4005716   1.14156756  0.34020472 -1.0065743 ]\n",
      " [-0.64660505  0.75364263 -1.16711559 -0.54543626 -0.74462564]\n",
      " [ 1.42187702  1.13420996 -0.07726263 -1.34846241 -1.38645475]] \n",
      "\n",
      "****************************\n",
      "\n",
      "[[0.         0.2030944  0.29746309 0.89281157 0.        ]\n",
      " [0.92802549 0.         0.32216954 1.         1.        ]\n",
      " [0.61512988 1.         1.         0.55404353 0.4355142 ]\n",
      " [0.12939774 0.63265069 0.         0.263469   0.68726752]\n",
      " [1.         0.84875037 0.47206693 0.         0.07041912]] \n",
      "\n"
     ]
    }
   ],
   "source": [
    "##矩阵归一化\n",
    "import numpy as np\n",
    "\n",
    "#均值归一化：均值为0，标准差为1，正态分布\n",
    "a1 = np.random.random((5, 5)) * 10\n",
    "print(a1, '\\n')\n",
    "print((a1 - a1.mean())/a1.std(), '\\n')\n",
    "print('****************************\\n')\n",
    "\n",
    "##[0,1]归一化：MinMaxScaler()\n",
    "from sklearn import preprocessing\n",
    "b = preprocessing.MinMaxScaler()\n",
    "print(b.fit_transform(a1), '\\n')"
   ]
  },
  {
   "cell_type": "code",
   "execution_count": 81,
   "metadata": {},
   "outputs": [
    {
     "name": "stdout",
     "output_type": "stream",
     "text": [
      "[['R' <class 'numpy.uint8'>]\n",
      " ['G' <class 'numpy.uint8'>]\n",
      " ['B' <class 'numpy.uint8'>]] \n",
      "\n",
      "**************************\n",
      "\n",
      "[('position', [('x', '<f8'), ('y', '<f8')]), ('color', [('r', '<f8'), ('g', '<f8'), ('b', '<f8')])] \n",
      "\n",
      "[(1, 2, b'2', b'3', b'5')]\n"
     ]
    }
   ],
   "source": [
    "# 自定义dtype\n",
    "import numpy as np\n",
    "\n",
    "print(np.array([('R', np.ubyte), ('G', np.ubyte), ('B', np.ubyte),]), '\\n')\n",
    "print('**************************\\n')\n",
    "\n",
    "# 自定义结构数组：位置(x,y)和颜色(r,g,b)\n",
    "mydtype = np.dtype([('position', [('x', float, 1), ('y', float, 1)]), ('color', [('r', float, 1), ('g', float, 1), ('b', float, 1)])])\n",
    "print(mydtype, '\\n')\n",
    "\n",
    "my = np.dtype({\n",
    "    'names': ['x', 'y', 'r', 'g', 'b'],\n",
    "    'formats': ['i8', 'i8','S32', 'S32','S32']\n",
    "})\n",
    "a = np.array([('1', '2', '2', '3', '5')], dtype=my)\n",
    "print(a)"
   ]
  },
  {
   "cell_type": "code",
   "execution_count": 89,
   "metadata": {},
   "outputs": [
    {
     "name": "stdout",
     "output_type": "stream",
     "text": [
      "[0. 1. 2. 3. 4.]\n"
     ]
    }
   ],
   "source": [
    "## 修改dtype\n",
    "import numpy as np\n",
    "\n",
    "print(np.arange(5).astype(float, copy=False))"
   ]
  },
  {
   "cell_type": "code",
   "execution_count": 12,
   "metadata": {
    "scrolled": true
   },
   "outputs": [
    {
     "name": "stdout",
     "output_type": "stream",
     "text": [
      "a1,a2:\n",
      "\n",
      "[[0.56729552 0.84078121]\n",
      " [0.90050948 0.90218492]\n",
      " [0.59579303 0.57549059]\n",
      " [0.20496344 0.52861801]\n",
      " [0.4949374  0.43405492]] \n",
      "\n",
      "[[0.56729552 0.84078121]\n",
      " [0.90050948 0.90218492]\n",
      " [0.59579303 0.57549059]\n",
      " [0.20496344 0.52861801]\n",
      " [0.4949374  0.43405492]] \n",
      "\n",
      "[[0.56729552 0.84078121]\n",
      " [0.90050948 0.90218492]\n",
      " [0.59579303 0.57549059]\n",
      " [0.20496344 0.52861801]\n",
      " [0.4949374  0.43405492]] \n",
      "\n",
      "******************************\n",
      "\n",
      "a3:\n",
      "\n",
      "[5 5 3 1 6 2 3 7 9 1 5 0 4 9 5] \n",
      "\n",
      "[-5 -5 -3 -1  6 -2 -3  7  9 -1 -5  0 -4  9 -5] \n",
      "\n",
      "[5 5 3 1 6 2 3 7 9 1 5 0 4 9 5] \n",
      "\n",
      "[-5 -5 -3 -1  6 -2 -3  7  9 -1 -5  0 -4  9 -5] \n",
      "\n",
      "******************************\n",
      "\n",
      "a4:\n",
      "\n",
      "[[0 1 1 0]\n",
      " [1 1 0 1]] \n",
      "\n",
      "[2 3] \n",
      "\n",
      "[0 1 0 0]\n",
      "******************************\n",
      "\n",
      "a5:\n",
      "\n",
      "[7 7 8 1] \n",
      "\n",
      "[False False False False]\n",
      "[  823543   823543 16777216        1]\n",
      "[0.+7.j 0.+7.j 0.+8.j 0.+1.j]\n",
      "False\n",
      "******************************\n",
      "\n",
      "0\n",
      "nan\n",
      "0 \n",
      "\n",
      "******************************\n",
      "\n",
      "[2 3] \n",
      "\n",
      "******************************\n",
      "\n",
      "[0.03883926 0.10923485 0.13584272 0.1696571  0.41683088 0.67291189\n",
      " 0.75857622 0.97549596 0.97689718 0.9786406 ] \n",
      "\n",
      "True\n",
      "False \n",
      "\n",
      "True \n",
      "\n",
      "True \n",
      "\n",
      "[0.5331947  0.25047599 0.99176353 0.42865532 0.4412018  0.27574078\n",
      " 0.04200185 0.96614247 0.99732167 0.04544945]\n",
      "[0.5331947  0.25047599 0.99176353 0.42865532 0.4412018  0.27574078\n",
      " 0.04200185 0.96614247 0.         0.04544945] \n",
      "\n",
      "******************************\n",
      "\n",
      "[[0.   0.25 0.5  0.75 1.  ]\n",
      " [0.   0.25 0.5  0.75 1.  ]\n",
      " [0.   0.25 0.5  0.75 1.  ]\n",
      " [0.   0.25 0.5  0.75 1.  ]\n",
      " [0.   0.25 0.5  0.75 1.  ]] [[0.   0.   0.   0.   0.  ]\n",
      " [0.25 0.25 0.25 0.25 0.25]\n",
      " [0.5  0.5  0.5  0.5  0.5 ]\n",
      " [0.75 0.75 0.75 0.75 0.75]\n",
      " [1.   1.   1.   1.   1.  ]] \n",
      "\n",
      "[[(0.  , 0.  ) (0.25, 0.  ) (0.5 , 0.  ) (0.75, 0.  ) (1.  , 0.  )]\n",
      " [(0.  , 0.25) (0.25, 0.25) (0.5 , 0.25) (0.75, 0.25) (1.  , 0.25)]\n",
      " [(0.  , 0.5 ) (0.25, 0.5 ) (0.5 , 0.5 ) (0.75, 0.5 ) (1.  , 0.5 )]\n",
      " [(0.  , 0.75) (0.25, 0.75) (0.5 , 0.75) (0.75, 0.75) (1.  , 0.75)]\n",
      " [(0.  , 1.  ) (0.25, 1.  ) (0.5 , 1.  ) (0.75, 1.  ) (1.  , 1.  )]]\n"
     ]
    },
    {
     "name": "stderr",
     "output_type": "stream",
     "text": [
      "D:\\anaconda3\\lib\\site-packages\\ipykernel_launcher.py:46: RuntimeWarning: invalid value encountered in true_divide\n",
      "D:\\anaconda3\\lib\\site-packages\\ipykernel_launcher.py:47: RuntimeWarning: divide by zero encountered in floor_divide\n"
     ]
    }
   ],
   "source": [
    "## 矩阵运算\n",
    "import numpy as np\n",
    "\n",
    "# 内积\n",
    "a1 = np.random.random((5, 3))\n",
    "a2 = np.random.random((3, 2))\n",
    "print('a1,a2:\\n')\n",
    "print(a1.dot(a2), '\\n')\n",
    "print(np.dot(a1, a2), '\\n')\n",
    "print(a1 @ a2, '\\n')\n",
    "print('******************************\\n')\n",
    "\n",
    "# 条件逻辑\n",
    "a3 = np.random.randint(0, 10, 15)\n",
    "print('a3:\\n')\n",
    "print(a3, '\\n')\n",
    "print(np.where(a3 > 5, a3, -a3), '\\n')\n",
    "print(a3, '\\n')\n",
    "\n",
    "a3[a3 <= 5] *= -1\n",
    "print(a3, '\\n')\n",
    "print('******************************\\n')\n",
    "\n",
    "#内置sum和np.sum的区别\n",
    "a4 = np.random.randint(0, 2, (2, 4))\n",
    "print('a4:\\n')\n",
    "print(a4, '\\n')\n",
    "print(np.sum(a4, -1), '\\n')   #沿最后一个轴求和\n",
    "\n",
    "print(sum(a4, -1))   #等价于sum()-1\n",
    "print('******************************\\n')\n",
    "\n",
    "# 基本运算\n",
    "a5 = np.random.choice(10, 4)\n",
    "print('a5:\\n')\n",
    "print(a5, '\\n')\n",
    "\n",
    "print(a5 < -a5)\n",
    "print(a5 ** a5)\n",
    "print(1j * a5)   #变为复数\n",
    "print(((a5 > a5) & (a5 < a5)).any())\n",
    "print('******************************\\n')\n",
    "\n",
    "# 0除法\n",
    "print(np.array(0))\n",
    "print(np.array(0) / np.array(0))\n",
    "print(np.array(0) // np.array(0), '\\n')\n",
    "print('******************************\\n')\n",
    "\n",
    "# 交集\n",
    "a6 = np.random.randint(0, 5, 3)\n",
    "a7 = np.random.randint(0, 5, 3)\n",
    "\n",
    "print(np.intersect1d(a6, a7), '\\n')\n",
    "print('******************************\\n')\n",
    "\n",
    "# 排序\n",
    "a8 = np.random.random((10))\n",
    "a8.sort()\n",
    "print(a8, '\\n')\n",
    "\n",
    "# 检查2个数组是否相等\n",
    "a9 = np.arange(5)\n",
    "a10 = np.arange(5)\n",
    "a11 = np.arange(1, 6, 5)\n",
    "print((a9 == a10).all())\n",
    "print((a9 == a11).all(), '\\n')\n",
    "\n",
    "print(np.allclose(a9, a10), '\\n')\n",
    "\n",
    "print(np.array_equal(a9, a10), '\\n')\n",
    "\n",
    "# 最大值\n",
    "a12 = np.random.random(10)\n",
    "print(a12)\n",
    "a12[a12.argmax()] = 0\n",
    "print(a12, '\\n')\n",
    "print('******************************\\n')\n",
    "\n",
    "# 特定坐标内的数组([0, 1]×[0, 1])\n",
    "nx = np.linspace(0, 1 ,5)\n",
    "ny = np.linspace(0, 1 ,5)\n",
    "xx, yy = np.meshgrid(nx, ny)\n",
    "print(xx, yy, '\\n')\n",
    "\n",
    "Z = np.zeros((5, 5), [('x', float), ('y', float)])\n",
    "Z['x'], Z['y'] = np.meshgrid(np.linspace(0, 1, 5), np.linspace(0, 1, 5))\n",
    "print(Z)"
   ]
  },
  {
   "cell_type": "code",
   "execution_count": 172,
   "metadata": {},
   "outputs": [
    {
     "name": "stdout",
     "output_type": "stream",
     "text": [
      "[0. 0. 0. 0. 0.]\n"
     ]
    },
    {
     "ename": "ValueError",
     "evalue": "assignment destination is read-only",
     "output_type": "error",
     "traceback": [
      "\u001b[1;31m---------------------------------------------------------------------------\u001b[0m",
      "\u001b[1;31mValueError\u001b[0m                                Traceback (most recent call last)",
      "\u001b[1;32m<ipython-input-172-6a6cd2959c4c>\u001b[0m in \u001b[0;36m<module>\u001b[1;34m\u001b[0m\n\u001b[0;32m      5\u001b[0m \u001b[0ma\u001b[0m\u001b[1;33m.\u001b[0m\u001b[0mflags\u001b[0m\u001b[1;33m.\u001b[0m\u001b[0mwriteable\u001b[0m \u001b[1;33m=\u001b[0m \u001b[1;32mFalse\u001b[0m\u001b[1;33m\u001b[0m\u001b[1;33m\u001b[0m\u001b[0m\n\u001b[0;32m      6\u001b[0m \u001b[0mprint\u001b[0m\u001b[1;33m(\u001b[0m\u001b[0ma\u001b[0m\u001b[1;33m)\u001b[0m\u001b[1;33m\u001b[0m\u001b[1;33m\u001b[0m\u001b[0m\n\u001b[1;32m----> 7\u001b[1;33m \u001b[0ma\u001b[0m\u001b[1;33m[\u001b[0m\u001b[1;36m0\u001b[0m\u001b[1;33m]\u001b[0m \u001b[1;33m=\u001b[0m \u001b[1;36m3\u001b[0m\u001b[1;33m\u001b[0m\u001b[1;33m\u001b[0m\u001b[0m\n\u001b[0m\u001b[0;32m      8\u001b[0m \u001b[0mprint\u001b[0m\u001b[1;33m(\u001b[0m\u001b[0ma\u001b[0m\u001b[1;33m)\u001b[0m\u001b[1;33m\u001b[0m\u001b[1;33m\u001b[0m\u001b[0m\n",
      "\u001b[1;31mValueError\u001b[0m: assignment destination is read-only"
     ]
    }
   ],
   "source": [
    "## 创建只读数组\n",
    "import numpy as np\n",
    "\n",
    "a = np.zeros(5)\n",
    "a.flags.writeable = False\n",
    "print(a)\n",
    "# a[0] = 3    #报错\n",
    "# print(a)"
   ]
  },
  {
   "cell_type": "code",
   "execution_count": 7,
   "metadata": {},
   "outputs": [
    {
     "name": "stdout",
     "output_type": "stream",
     "text": [
      "[[0.59496826 0.63412945]\n",
      " [1.07504376 0.4013904 ]\n",
      " [0.80574549 0.70486881]\n",
      " [0.4463702  1.36102275]\n",
      " [0.91547162 0.38906331]\n",
      " [0.56709377 1.16383276]\n",
      " [1.01311156 0.18170545]\n",
      " [0.72928706 1.56103021]\n",
      " [0.19382088 0.36264082]\n",
      " [1.00017919 0.23095449]] \n",
      "\n",
      "[[0.59496826 0.93666688]\n",
      " [1.07504376 1.16940593]\n",
      " [0.80574549 0.86592752]\n",
      " [0.4463702  0.20977358]\n",
      " [0.91547162 1.18173301]\n",
      " [0.56709377 0.40696356]\n",
      " [1.01311156 1.38909087]\n",
      " [0.72928706 0.00976612]\n",
      " [0.19382088 1.20815551]\n",
      " [1.00017919 1.33984183]]\n"
     ]
    }
   ],
   "source": [
    "# 笛卡尔坐标转换为极坐标\n",
    "import numpy as np\n",
    "\n",
    "cart = np.random.random((10, 2))\n",
    "X, Y = cart[:,0], cart[:,1]\n",
    "R = np.sqrt(X ** 2 + Y ** 2)\n",
    "T = np.arctan2(Y, X)\n",
    "print(np.column_stack((R, T)), '\\n')\n",
    "\n",
    "polar = np.column_stack((np.sqrt(np.add.reduce(np.square(cart), axis=1)), np.arctan(np.divide.reduce(cart, axis=1))))\n",
    "print(polar)"
   ]
  },
  {
   "cell_type": "code",
   "execution_count": 149,
   "metadata": {
    "scrolled": true
   },
   "outputs": [
    {
     "name": "stdout",
     "output_type": "stream",
     "text": [
      "[ 7.6109089   0.30808737  4.26077343 -8.45817682  8.96591051 -5.81685339\n",
      "  9.42196832 -9.11522331  4.6808957   1.6023949 ] \n",
      "\n",
      "[ 8.  1.  5.  9.  9.  6. 10. 10.  5.  2.] \n",
      "\n",
      "[ 8.  1.  5.  9.  9.  6. 10. 10.  5.  2.] \n",
      "\n",
      "*******************************\n",
      "\n",
      "[ 8.  1.  5. -8.  9. -5. 10. -9.  5.  2.]\n",
      "[  7.   0.   4.  -9.   8.  -6.   9. -10.   4.   1.]\n",
      "[ 7  0  4 -8  8 -5  9 -9  4  1]\n",
      "[ 7.  0.  4. -8.  8. -5.  9. -9.  4.  1.]\n",
      "[  7.   0.   4.  -9.   8.  -6.   9. -10.   4.   1.]\n"
     ]
    }
   ],
   "source": [
    "## 取整\n",
    "import numpy as np\n",
    "\n",
    "# 浮点数数组取整\n",
    "a1 = np.random.uniform(-10, 10, 10)\n",
    "print(a1, '\\n')\n",
    "print(np.ceil(np.abs(a1)), '\\n')\n",
    "print(np.ceil(np.copysign(a1, np.ones(10))), '\\n')\n",
    "print('*******************************\\n')\n",
    "\n",
    "print(np.ceil(a1))   #向上取整\n",
    "print(np.floor(a1))    #向下取整\n",
    "print(a1.astype(int))   #只保留整数部分\n",
    "print(np.trunc(a1))    #舍去小数部分，但还是float\n",
    "print(a1 - a1%1)    #向下取整，同floor"
   ]
  },
  {
   "cell_type": "code",
   "execution_count": 124,
   "metadata": {},
   "outputs": [
    {
     "name": "stdout",
     "output_type": "stream",
     "text": [
      "[inf inf inf inf] \n",
      "\n"
     ]
    }
   ],
   "source": [
    "## 忽略numpy警告\n",
    "import numpy as np\n",
    "\n",
    "defaults = np.seterr(all='ignore')\n",
    "print(np.ones(4) / 0, '\\n')\n",
    "\n",
    "#_=np.seterr(**defaults)\n",
    "#Anequivalentway, withacontextmanager:\n",
    "#withnp.errstate(divide='ignore'):\n",
    "#print(np.ones(4) / 0, '\\n')"
   ]
  },
  {
   "cell_type": "code",
   "execution_count": 126,
   "metadata": {},
   "outputs": [
    {
     "name": "stdout",
     "output_type": "stream",
     "text": [
      "nan \n",
      "\n",
      "1j \n",
      "\n"
     ]
    }
   ],
   "source": [
    "## emath自动域数学函数，扩展到复数\n",
    "import numpy as np\n",
    "\n",
    "print(np.sqrt(-1), '\\n')\n",
    "print(np.emath.sqrt(-1), '\\n')"
   ]
  },
  {
   "cell_type": "code",
   "execution_count": 133,
   "metadata": {},
   "outputs": [
    {
     "name": "stdout",
     "output_type": "stream",
     "text": [
      "2020-03-15 \n",
      "\n",
      "2020-03-14 \n",
      "\n",
      "2020-03-16 \n",
      "\n",
      "1 days \n",
      "\n",
      "1 months \n",
      "\n",
      "2020-02\n",
      "['2020-02-01' '2020-02-02' '2020-02-03' '2020-02-04' '2020-02-05'\n",
      " '2020-02-06' '2020-02-07' '2020-02-08' '2020-02-09' '2020-02-10'\n",
      " '2020-02-11' '2020-02-12' '2020-02-13' '2020-02-14' '2020-02-15'\n",
      " '2020-02-16' '2020-02-17' '2020-02-18' '2020-02-19' '2020-02-20'\n",
      " '2020-02-21' '2020-02-22' '2020-02-23' '2020-02-24' '2020-02-25'\n",
      " '2020-02-26' '2020-02-27' '2020-02-28' '2020-02-29'] \n",
      "\n"
     ]
    }
   ],
   "source": [
    "## 获取日期\n",
    "import numpy as np\n",
    "\n",
    "# 某一天日期\n",
    "today = np.datetime64('today', 'D')\n",
    "yesterday = np.datetime64('today', 'D') - np.timedelta64(1, 'D')\n",
    "tomorrow = np.datetime64('today', 'D') + np.timedelta64(1, 'D')\n",
    "print(today, '\\n')\n",
    "print(yesterday, '\\n')\n",
    "print(tomorrow, '\\n')\n",
    "print(np.timedelta64(1, 'D'), '\\n')\n",
    "\n",
    "# 月份\n",
    "print(np.timedelta64(1, 'M'), '\\n')\n",
    "print(np.datetime64('today', 'M') - np.timedelta64(1, 'M'))\n",
    "\n",
    "# 某段时期的所有日期\n",
    "print(np.arange('2020-02', '2020-03', dtype='datetime64[D]'), '\\n')"
   ]
  },
  {
   "cell_type": "code",
   "execution_count": 21,
   "metadata": {},
   "outputs": [
    {
     "name": "stdout",
     "output_type": "stream",
     "text": [
      "[-1.5 -1.5 -1.5] \n",
      "\n",
      "[-1.5 -1.5 -1.5] \n",
      "\n",
      "[ 0 -1 -2 -3 -4] \n",
      "\n",
      "[False, True]\n",
      "[ True False] \n",
      "\n",
      "[1 0 0 0 0]\n"
     ]
    }
   ],
   "source": [
    "## 在位(原位）计算（不建副本）\n",
    "import numpy as np\n",
    "\n",
    "# (A+B)*(-A/2)\n",
    "\n",
    "A = np.ones(3)\n",
    "B = np.ones(3) * 2\n",
    "C = np.ones(3) * 3\n",
    "\n",
    "print((A + B) * (-A / 2), '\\n')\n",
    "\n",
    "np.add(A, B, out=B)\n",
    "np.divide(A, 2, out=A)\n",
    "np.negative(A, out=A)\n",
    "print(np.multiply(B, A, out=A), '\\n')\n",
    "\n",
    "# 原位改变正负号\n",
    "a = np.arange(5)\n",
    "print(np.negative(a, out=a), '\\n')\n",
    "\n",
    "# 改变bool值\n",
    "b = [False, True]\n",
    "print(b)\n",
    "print(np.logical_not(b), '\\n')\n",
    "\n",
    "c = np.arange(5)\n",
    "print(np.logical_not(c, out=c))"
   ]
  },
  {
   "cell_type": "code",
   "execution_count": 35,
   "metadata": {},
   "outputs": [
    {
     "name": "stdout",
     "output_type": "stream",
     "text": [
      "[[-0.11111111 -0.05263158 -0.03448276 -0.02564103 -0.02040816]\n",
      " [-0.125      -0.05555556 -0.03571429 -0.02631579 -0.02083333]\n",
      " [-0.14285714 -0.05882353 -0.03703704 -0.02702703 -0.0212766 ]\n",
      " [-0.16666667 -0.0625     -0.03846154 -0.02777778 -0.02173913]\n",
      " [-0.2        -0.06666667 -0.04       -0.02857143 -0.02222222]] \n",
      "\n",
      "-1.7449692230622376e-19 \n",
      "\n",
      "[[-0.11111111 -0.125      -0.14285714 -0.16666667 -0.2       ]\n",
      " [-0.05263158 -0.05555556 -0.05882353 -0.0625     -0.06666667]\n",
      " [-0.03448276 -0.03571429 -0.03703704 -0.03846154 -0.04      ]\n",
      " [-0.02564103 -0.02631579 -0.02702703 -0.02777778 -0.02857143]\n",
      " [-0.02040816 -0.02083333 -0.0212766  -0.02173913 -0.02222222]]\n"
     ]
    }
   ],
   "source": [
    "# 柯西矩阵\n",
    "import numpy as np\n",
    "\n",
    "X, Y = np.arange(1, 6, 1), np.arange(10, 60, 10)\n",
    "C = 1 / np.subtract.outer(X, Y)      #outer类似广播，但行列顺序有所不同\n",
    "print(C, '\\n')\n",
    "print(np.linalg.det(C), '\\n')\n",
    "\n",
    "Z = Y.reshape(5, 1)\n",
    "D = 1 / (X-Z)\n",
    "print(D)"
   ]
  },
  {
   "cell_type": "code",
   "execution_count": 39,
   "metadata": {},
   "outputs": [
    {
     "name": "stdout",
     "output_type": "stream",
     "text": [
      "Machine parameters for int64\n",
      "---------------------------------------------------------------\n",
      "min = -9223372036854775808\n",
      "max = 9223372036854775807\n",
      "---------------------------------------------------------------\n",
      "\n",
      "Machine parameters for int32\n",
      "---------------------------------------------------------------\n",
      "min = -2147483648\n",
      "max = 2147483647\n",
      "---------------------------------------------------------------\n",
      "\n",
      "Machine parameters for uint16\n",
      "---------------------------------------------------------------\n",
      "min = 0\n",
      "max = 65535\n",
      "---------------------------------------------------------------\n",
      "\n",
      "Machine parameters for float64\n",
      "---------------------------------------------------------------\n",
      "precision =  15   resolution = 1.0000000000000001e-15\n",
      "machep =    -52   eps =        2.2204460492503131e-16\n",
      "negep =     -53   epsneg =     1.1102230246251565e-16\n",
      "minexp =  -1022   tiny =       2.2250738585072014e-308\n",
      "maxexp =   1024   max =        1.7976931348623157e+308\n",
      "nexp =       11   min =        -max\n",
      "---------------------------------------------------------------\n",
      "\n",
      "Machine parameters for float16\n",
      "---------------------------------------------------------------\n",
      "precision =   3   resolution = 1.00040e-03\n",
      "machep =    -10   eps =        9.76562e-04\n",
      "negep =     -11   epsneg =     4.88281e-04\n",
      "minexp =    -14   tiny =       6.10352e-05\n",
      "maxexp =     16   max =        6.55040e+04\n",
      "nexp =        5   min =        -max\n",
      "---------------------------------------------------------------\n",
      "\n"
     ]
    }
   ],
   "source": [
    "## 每种类型数据的最值\n",
    "import numpy as np\n",
    "\n",
    "print(np.iinfo(np.int64))\n",
    "print(np.iinfo(np.int32))\n",
    "print(np.iinfo(np.uint16))\n",
    "print(np.finfo(np.float64))\n",
    "print(np.finfo(np.float16))"
   ]
  },
  {
   "cell_type": "code",
   "execution_count": 66,
   "metadata": {},
   "outputs": [
    {
     "name": "stdout",
     "output_type": "stream",
     "text": [
      "[[1. 0. 0. ... 0. 0. 0.]\n",
      " [0. 1. 0. ... 0. 0. 0.]\n",
      " [0. 0. 1. ... 0. 0. 0.]\n",
      " ...\n",
      " [0. 0. 0. ... 1. 0. 0.]\n",
      " [0. 0. 0. ... 0. 1. 0.]\n",
      " [0. 0. 0. ... 0. 0. 1.]]\n",
      "[[1. 0. 0. ... 0. 0. 0.]\n",
      " [0. 1. 0. ... 0. 0. 0.]\n",
      " [0. 0. 1. ... 0. 0. 0.]\n",
      " ...\n",
      " [0. 0. 0. ... 1. 0. 0.]\n",
      " [0. 0. 0. ... 0. 1. 0.]\n",
      " [0. 0. 0. ... 0. 0. 1.]]\n"
     ]
    }
   ],
   "source": [
    "# 打印数组中的所有值\n",
    "import numpy as np\n",
    "\n",
    "print(np.eye(26), '\\n')\n",
    "np.set_printoptions(threshold=100)\n",
    "print(np.eye(20))"
   ]
  },
  {
   "cell_type": "code",
   "execution_count": 85,
   "metadata": {},
   "outputs": [
    {
     "name": "stdout",
     "output_type": "stream",
     "text": [
      "[[0.25373249 0.08791462 0.2264397  0.63938212 0.67436007]] [[0.95835006 0.85606607 0.26806915 0.91834337 0.62533365]]\n",
      "[[0.         0.19482706 0.69082026 0.38771919 0.53649556]\n",
      " [0.19482706 0.         0.60409401 0.55497285 0.63020291]\n",
      " [0.69082026 0.60409401 0.         0.77031033 0.57294903]\n",
      " [0.38771919 0.55497285 0.77031033 0.         0.29509007]\n",
      " [0.53649556 0.63020291 0.57294903 0.29509007 0.        ]]\n"
     ]
    }
   ],
   "source": [
    "# 2D坐标矩阵中点与点的距离\n",
    "import numpy as np\n",
    "\n",
    "a1 = np.random.random((5, 2))\n",
    "x, y = np.atleast_2d(a1[:,0], a1[:,1])\n",
    "print(x, y)\n",
    "print(np.sqrt((x - x.T) ** 2 + (y - y.T) ** 2))"
   ]
  },
  {
   "cell_type": "code",
   "execution_count": 97,
   "metadata": {},
   "outputs": [
    {
     "name": "stdout",
     "output_type": "stream",
     "text": [
      "<numpy.ndenumerate object at 0x0000022771681F08>\n",
      "(0, 0) 1.0\n",
      "(0, 1) 0.0\n",
      "(1, 0) 0.0\n",
      "(1, 1) 1.0\n",
      "\n",
      "\n",
      "(0, 0) 0\n",
      "(0, 1) 1\n",
      "(1, 0) 2\n",
      "(1, 1) 3\n"
     ]
    }
   ],
   "source": [
    "## 列举：ndenumerate和ndindex\n",
    "import numpy as np\n",
    "\n",
    "print(np.ndenumerate(np.eye(2)))\n",
    "for index, value in np.ndenumerate(np.eye(2)):\n",
    "    print(index, value)\n",
    "print('\\n')\n",
    "\n",
    "a = np.arange(4).reshape(2, 2)\n",
    "for index in np.ndindex(2, 2):\n",
    "    print(index, a[index])"
   ]
  },
  {
   "cell_type": "code",
   "execution_count": 52,
   "metadata": {},
   "outputs": [
    {
     "name": "stdout",
     "output_type": "stream",
     "text": [
      "[[1. 1. 1. 1. 1. 1. 1. 1. 1. 1.]\n",
      " [1. 1. 1. 1. 1. 1. 1. 1. 1. 1.]\n",
      " [1. 1. 1. 1. 1. 1. 1. 1. 1. 1.]\n",
      " [1. 1. 1. 1. 1. 1. 1. 1. 1. 1.]\n",
      " [1. 1. 1. 1. 1. 1. 1. 1. 1. 1.]\n",
      " [1. 1. 1. 1. 1. 1. 1. 1. 1. 1.]\n",
      " [1. 1. 1. 1. 1. 1. 1. 1. 1. 1.]\n",
      " [1. 1. 1. 1. 1. 1. 1. 1. 1. 1.]\n",
      " [1. 1. 1. 1. 1. 1. 1. 1. 1. 1.]\n",
      " [1. 1. 1. 1. 1. 1. 1. 1. 1. 1.]] \n",
      "\n",
      "[[1. 1. 1. 1. 1. 1. 1. 1. 1. 1.]\n",
      " [1. 1. 1. 1. 1. 1. 1. 1. 1. 1.]\n",
      " [1. 1. 1. 1. 1. 1. 1. 1. 1. 1.]\n",
      " [1. 1. 1. 1. 1. 1. 1. 1. 1. 1.]\n",
      " [2. 1. 1. 1. 1. 1. 1. 1. 1. 1.]\n",
      " [2. 1. 1. 1. 1. 1. 1. 1. 1. 1.]\n",
      " [1. 1. 1. 1. 1. 1. 1. 1. 1. 1.]\n",
      " [1. 1. 1. 1. 1. 1. 2. 1. 1. 1.]\n",
      " [1. 1. 1. 1. 1. 1. 1. 1. 1. 1.]\n",
      " [1. 1. 1. 1. 1. 1. 1. 1. 1. 1.]]\n",
      "******************************\n",
      "\n",
      "[1. 0. 0. 0. 1. 0. 0. 0. 1. 0. 0. 0. 1. 0. 0. 0. 1.]\n"
     ]
    }
   ],
   "source": [
    "# 替换、插入元素\n",
    "import numpy as np\n",
    "\n",
    "# 随机将p个元素放于矩阵中\n",
    "a = np.ones((10, 10))\n",
    "print(a, '\\n')\n",
    "np.put(a, np.random.choice(range(10*10), 3), 2)\n",
    "print(a)\n",
    "print('******************************\\n')\n",
    "\n",
    "# 在向量中每2个元素之间插入连续的3个0\n",
    "b = np.ones(5)\n",
    "c = np.zeros(len(b) + 12)\n",
    "c[::4] = b\n",
    "print(c)"
   ]
  },
  {
   "cell_type": "code",
   "execution_count": 1,
   "metadata": {},
   "outputs": [
    {
     "name": "stdout",
     "output_type": "stream",
     "text": [
      "[[0.17097413 0.46439199 0.81855429]\n",
      " [0.27785595 0.51619549 0.57909771]] \n",
      "\n",
      "[[-0.31366601 -0.02024815  0.33391416]\n",
      " [-0.17986044  0.05847911  0.12138133]]\n"
     ]
    }
   ],
   "source": [
    "# 减去矩阵每一行的算术平均值\n",
    "import numpy as np\n",
    "\n",
    "a = np.random.random((2, 3))\n",
    "print(a, '\\n')\n",
    "print(a - np.mean(a, axis=1, keepdims=True))"
   ]
  },
  {
   "cell_type": "code",
   "execution_count": 11,
   "metadata": {
    "scrolled": true
   },
   "outputs": [
    {
     "name": "stdout",
     "output_type": "stream",
     "text": [
      "[[1 8 5]\n",
      " [2 4 3]] \n",
      "\n",
      "[[1 5 8]\n",
      " [2 3 4]] \n",
      "\n",
      "[[1 4 3]\n",
      " [2 8 5]] \n",
      "\n",
      "[[2 4 3]\n",
      " [1 8 5]] \n",
      "\n"
     ]
    }
   ],
   "source": [
    "## 排序\n",
    "import numpy as np\n",
    "\n",
    "a = np.array([[1, 8, 5], [2, 4, 3]])\n",
    "print(a, '\\n')\n",
    "print(np.sort(a), '\\n')  #默认按行各自排序\n",
    "print(np.sort(a, 0), '\\n')   #按列各自排序\n",
    "print(a[a[:, 1].argsort()], '\\n')    # 按第二列排序"
   ]
  },
  {
   "cell_type": "code",
   "execution_count": 15,
   "metadata": {},
   "outputs": [
    {
     "name": "stdout",
     "output_type": "stream",
     "text": [
      "[False False False]\n",
      "False\n"
     ]
    }
   ],
   "source": [
    "# 检查是否有空列\n",
    "import numpy as np\n",
    "\n",
    "a = np.random.randint(1, 4, (2, 3))\n",
    "print((~a.any(axis=0)))\n",
    "print((~a.any(axis=0)).any())"
   ]
  },
  {
   "cell_type": "code",
   "execution_count": 22,
   "metadata": {},
   "outputs": [
    {
     "name": "stdout",
     "output_type": "stream",
     "text": [
      "<numpy.nditer object at 0x000002861ABFDE90>\n",
      "[[0 1 2]\n",
      " [1 2 3]\n",
      " [2 3 4]]\n"
     ]
    }
   ],
   "source": [
    "# 使用迭代器计算两个数组的和\n",
    "import numpy as np\n",
    "\n",
    "a = np.arange(3)\n",
    "b = np.arange(3).reshape(3, 1)\n",
    "it = np.nditer([a, b, None])\n",
    "print(it)\n",
    "for x, y, z in it:\n",
    "    z[...] = x + y\n",
    "print(it.operands[2])"
   ]
  },
  {
   "cell_type": "code",
   "execution_count": 4,
   "metadata": {},
   "outputs": [
    {
     "name": "stdout",
     "output_type": "stream",
     "text": [
      "[7 8 6 2 9 1 1 6 6 3 9 3 2 4 8 4 7 6 1 7]\n",
      "[1. 4. 3. 3. 3. 1. 5. 4. 3. 3.]\n",
      "[1. 7. 5. 5. 5. 1. 9. 7. 5. 5.] \n",
      "\n",
      "[0 1 2 3 4]\n",
      "[6 4 3 1 2]\n",
      "[0. 3. 4. 2. 1. 0. 0.] \n",
      "\n",
      "[ 0.16008418  0.23310916  0.37347342 -2.53381168  0.85030608  0.05788641\n",
      "  0.6746663  -1.07093499  1.67969521  0.33427118]\n",
      "[ 0.          0.         -2.53381168  0.         -1.07093499  0.23310916\n",
      "  1.2237795   0.          2.23193698  0.6746663 ]\n",
      "[0 0 1 0 1 1 2 0 4 1]\n",
      "[        nan         nan -2.53381168         nan -1.07093499  0.23310916\n",
      "  0.61188975         nan  0.55798425  0.6746663 ] \n",
      "\n",
      "[3 3 1 4 4 4 3 3 0 1]\n",
      "[1 2 0 4 3]\n",
      "3 \n",
      "\n"
     ]
    },
    {
     "name": "stderr",
     "output_type": "stream",
     "text": [
      "D:\\anaconda3\\lib\\site-packages\\ipykernel_launcher.py:30: RuntimeWarning: invalid value encountered in true_divide\n"
     ]
    }
   ],
   "source": [
    "## np.bincount(I, weights=None, minlength=None)\n",
    "\n",
    "import numpy as np\n",
    "\n",
    "# e.g.1 对向量a中对应索引I的位置的元素+1\n",
    "a = np.ones(10)\n",
    "I = np.random.randint(1, len(a), 20)\n",
    "print(I)\n",
    "\n",
    "#方法一\n",
    "a += np.bincount(I, minlength=len(a))\n",
    "print(a)\n",
    "\n",
    "#方法二\n",
    "np.add.at(a, I, 1)\n",
    "print(a, '\\n')\n",
    "\n",
    "# e.g.2 累加\n",
    "b = np.arange(5)\n",
    "I2 = np.random.choice(8, 5)\n",
    "print(b)\n",
    "print(I2)\n",
    "print(np.bincount(I2, weights=b), '\\n')\n",
    "\n",
    "# e.g.3 使用相同大小的向量s计算c的算术平均值\n",
    "c = np.random.normal(0, 1, 10)\n",
    "s = np.random.randint(0, 10, 10)\n",
    "c_sum = np.bincount(s, c)    # 以c为权重\n",
    "c_num = np.bincount(s)\n",
    "c_mean = c_sum / c_num\n",
    "print(c)\n",
    "print(c_sum)\n",
    "print(c_num)\n",
    "print(c_mean, '\\n')\n",
    "\n",
    "# e.g.4 找矩阵中出现频率最高的数\n",
    "d = np.random.randint(0, 5, 10)\n",
    "print(d)\n",
    "print(np.bincount(d))\n",
    "print(np.bincount(d).argmax(), '\\n')"
   ]
  },
  {
   "cell_type": "code",
   "execution_count": 10,
   "metadata": {},
   "outputs": [
    {
     "name": "stdout",
     "output_type": "stream",
     "text": [
      "4 \n",
      "\n",
      "[[7 8 6]\n",
      " [9 6 2]\n",
      " [7 3 7]\n",
      " [8 7 6]\n",
      " [3 9 7]] \n",
      "\n",
      "[[7 7 8 8 6 6]\n",
      " [9 9 6 6 2 2]\n",
      " [7 7 3 3 7 7]\n",
      " [8 8 7 7 6 6]\n",
      " [3 3 9 9 7 7]] \n",
      "\n",
      "[[7 8 8 6 6 7]\n",
      " [9 6 6 2 2 9]\n",
      " [7 3 3 7 7 7]\n",
      " [8 7 7 6 6 8]\n",
      " [3 9 9 7 7 3]] \n",
      "\n",
      "5 \n",
      "\n",
      "[[7 8]\n",
      " [8 6]\n",
      " [6 7]\n",
      " [9 6]\n",
      " [6 2]\n",
      " [2 9]\n",
      " [7 3]\n",
      " [3 7]\n",
      " [7 7]\n",
      " [8 7]\n",
      " [7 6]\n",
      " [6 8]\n",
      " [3 9]\n",
      " [9 7]\n",
      " [7 3]] \n",
      "\n",
      "int32\n",
      "[[(7, 8)]\n",
      " [(6, 8)]\n",
      " [(6, 7)]\n",
      " [(6, 9)]\n",
      " [(2, 6)]\n",
      " [(2, 9)]\n",
      " [(3, 7)]\n",
      " [(3, 7)]\n",
      " [(7, 7)]\n",
      " [(7, 8)]\n",
      " [(6, 7)]\n",
      " [(6, 8)]\n",
      " [(3, 9)]\n",
      " [(7, 9)]\n",
      " [(3, 7)]] \n",
      "\n",
      "[(2, 6) (2, 9) (3, 7) (3, 9) (6, 7) (6, 8) (6, 9) (7, 7) (7, 8) (7, 9)]\n"
     ]
    }
   ],
   "source": [
    "## 对于一个(w, h, 3)表示的图像，计算其不同颜色数量\n",
    "\n",
    "import numpy as np\n",
    "\n",
    "w, h = 16, 16\n",
    "a = np.random.randint(0, 2, (w, h, 3)).astype(np.ubyte)\n",
    "b = a[..., 0] * 256 * 256 + a[..., 1] * 25 + a[..., 2]\n",
    "print(len(np.unique(b)), '\\n')\n",
    "\n",
    "## 共享顶点的三角形，找出边的种类\n",
    "faces = np.random.randint(1, 10, (5, 3))\n",
    "print(faces, '\\n')\n",
    "print(np.repeat(faces, 2, axis=1), '\\n')\n",
    "F = np.roll(np.repeat(faces, 2, axis=1), -1, axis=1)\n",
    "print(F, '\\n')\n",
    "print(len(F), '\\n')\n",
    "F = F.reshape(len(F) * 3, 2)\n",
    "print(F, '\\n')\n",
    "F = np.sort(F, axis=1)\n",
    "print(F.dtype)\n",
    "G = F.view(dtype=[('p0', F.dtype), ('p1', F.dtype)])\n",
    "print(G, '\\n')\n",
    "print(np.unique(G))"
   ]
  },
  {
   "cell_type": "code",
   "execution_count": 2,
   "metadata": {},
   "outputs": [
    {
     "name": "stdout",
     "output_type": "stream",
     "text": [
      " repeat(a, repeats, axis=None)\n",
      "\n",
      "Repeat elements of an array.\n",
      "\n",
      "Parameters\n",
      "----------\n",
      "a : array_like\n",
      "    Input array.\n",
      "repeats : int or array of ints\n",
      "    The number of repetitions for each element.  `repeats` is broadcasted\n",
      "    to fit the shape of the given axis.\n",
      "axis : int, optional\n",
      "    The axis along which to repeat values.  By default, use the\n",
      "    flattened input array, and return a flat output array.\n",
      "\n",
      "Returns\n",
      "-------\n",
      "repeated_array : ndarray\n",
      "    Output array which has the same shape as `a`, except along\n",
      "    the given axis.\n",
      "\n",
      "See Also\n",
      "--------\n",
      "tile : Tile an array.\n",
      "\n",
      "Examples\n",
      "--------\n",
      ">>> np.repeat(3, 4)\n",
      "array([3, 3, 3, 3])\n",
      ">>> x = np.array([[1,2],[3,4]])\n",
      ">>> np.repeat(x, 2)\n",
      "array([1, 1, 2, 2, 3, 3, 4, 4])\n",
      ">>> np.repeat(x, 3, axis=1)\n",
      "array([[1, 1, 1, 2, 2, 2],\n",
      "       [3, 3, 3, 4, 4, 4]])\n",
      ">>> np.repeat(x, [1, 2], axis=0)\n",
      "array([[1, 2],\n",
      "       [3, 4],\n",
      "       [3, 4]])\n"
     ]
    }
   ],
   "source": [
    "import numpy as np\n",
    "np.info(np.repeat)"
   ]
  },
  {
   "cell_type": "code",
   "execution_count": 36,
   "metadata": {},
   "outputs": [
    {
     "name": "stdout",
     "output_type": "stream",
     "text": [
      "[[17 17]\n",
      " [14 12]\n",
      " [11 17]] \n",
      "\n",
      "(3, 2, 4, 2)\n",
      "(3, 2)\n",
      "(3, 2, -1)\n",
      "[[17 17]\n",
      " [14 12]\n",
      " [11 17]]\n"
     ]
    }
   ],
   "source": [
    "## 计算多维数组后几个轴上元素的和\n",
    "\n",
    "import numpy as np\n",
    "\n",
    "a = np.random.randint(0, 5, (3, 2, 4, 2))\n",
    "#print(a, '\\n')\n",
    "\n",
    "#方法一：指定axis\n",
    "print(a.sum(axis=(-2,-1)), '\\n')\n",
    "\n",
    "#方法二：将最后几个轴合并\n",
    "print(a.shape)\n",
    "print(a.shape[:-2])\n",
    "print(a.shape[:-2] + (-1,))   #将最后2个轴合并\n",
    "print(a.reshape(a.shape[:-2] + (-1,)).sum(axis=-1))"
   ]
  },
  {
   "cell_type": "code",
   "execution_count": 50,
   "metadata": {},
   "outputs": [
    {
     "name": "stdout",
     "output_type": "stream",
     "text": [
      "[32 21]\n",
      "[32 21]\n",
      "[32 21]\n"
     ]
    }
   ],
   "source": [
    "# 获取点积的对角矩阵\n",
    "import numpy as np\n",
    "\n",
    "a = np.random.randint(1, 5, (2, 3))\n",
    "b = np.random.randint(1, 5, (3, 2))\n",
    "\n",
    "# 方法一\n",
    "print(np.diag(np.dot(a, b)))\n",
    "\n",
    "#方法二\n",
    "print(np.sum(a * b.T, axis=1))\n",
    "\n",
    "#方法三\n",
    "print(np.einsum('ij,ji->i', a, b))"
   ]
  },
  {
   "cell_type": "code",
   "execution_count": 64,
   "metadata": {
    "scrolled": true
   },
   "outputs": [
    {
     "name": "stdout",
     "output_type": "stream",
     "text": [
      "[[[0.58370766 0.87241254 0.08467026 0.34282111 0.60379504]\n",
      "  [0.38985768 0.25063269 0.71013088 0.57400467 0.57693781]\n",
      "  [0.02340396 0.00633382 0.35483787 0.07825746 0.14654529]\n",
      "  [0.2390069  0.24664348 0.13156503 0.19847881 0.255005  ]\n",
      "  [0.01443067 0.11479584 0.33733016 0.12095114 0.00806078]]\n",
      "\n",
      " [[0.21842907 0.28347688 0.03723167 0.16183878 0.26253817]\n",
      "  [0.02784737 0.05688272 0.03259493 0.05100716 0.06043969]\n",
      "  [0.10387143 0.08396333 0.02369443 0.03803105 0.00357981]\n",
      "  [0.16106471 0.29960498 0.06340913 0.30206664 0.01414805]\n",
      "  [0.1088045  0.23762816 0.20381338 0.28911441 0.08062966]]\n",
      "\n",
      " [[0.24500243 0.21626437 0.19455679 0.24373946 0.03693483]\n",
      "  [0.38995345 0.43711875 0.23078822 0.43040635 0.17961113]\n",
      "  [0.11266708 0.71490731 0.10193055 0.55739968 0.38709764]\n",
      "  [0.27198544 0.33245164 0.56650792 0.50085209 0.25260716]\n",
      "  [0.00753741 0.00737196 0.00395318 0.00455225 0.00149633]]\n",
      "\n",
      " [[0.06377927 0.01165654 0.05570328 0.00292819 0.04184362]\n",
      "  [0.72142211 0.36777176 0.56533419 0.50879988 0.36042719]\n",
      "  [0.10269564 0.2233589  0.10354141 0.11890294 0.01083139]\n",
      "  [0.19352216 0.08599981 0.07637609 0.00626982 0.16026747]\n",
      "  [0.50970621 0.73378893 0.41273434 0.34033246 0.29642951]]\n",
      "\n",
      " [[0.38326802 0.47267085 0.16106601 0.09745275 0.47689471]\n",
      "  [0.00814332 0.00258024 0.00355068 0.00437095 0.01253697]\n",
      "  [0.45865958 0.11190216 0.09194204 0.36312862 0.29046929]\n",
      "  [0.01906885 0.04167942 0.03179436 0.00460241 0.01730083]\n",
      "  [0.04530321 0.31943133 0.23373044 0.27854065 0.31083481]]] \n",
      "\n",
      "[[[0.58370766 0.87241254 0.08467026 0.34282111 0.60379504]\n",
      "  [0.38985768 0.25063269 0.71013088 0.57400467 0.57693781]\n",
      "  [0.02340396 0.00633382 0.35483787 0.07825746 0.14654529]\n",
      "  [0.2390069  0.24664348 0.13156503 0.19847881 0.255005  ]\n",
      "  [0.01443067 0.11479584 0.33733016 0.12095114 0.00806078]]\n",
      "\n",
      " [[0.21842907 0.28347688 0.03723167 0.16183878 0.26253817]\n",
      "  [0.02784737 0.05688272 0.03259493 0.05100716 0.06043969]\n",
      "  [0.10387143 0.08396333 0.02369443 0.03803105 0.00357981]\n",
      "  [0.16106471 0.29960498 0.06340913 0.30206664 0.01414805]\n",
      "  [0.1088045  0.23762816 0.20381338 0.28911441 0.08062966]]\n",
      "\n",
      " [[0.24500243 0.21626437 0.19455679 0.24373946 0.03693483]\n",
      "  [0.38995345 0.43711875 0.23078822 0.43040635 0.17961113]\n",
      "  [0.11266708 0.71490731 0.10193055 0.55739968 0.38709764]\n",
      "  [0.27198544 0.33245164 0.56650792 0.50085209 0.25260716]\n",
      "  [0.00753741 0.00737196 0.00395318 0.00455225 0.00149633]]\n",
      "\n",
      " [[0.06377927 0.01165654 0.05570328 0.00292819 0.04184362]\n",
      "  [0.72142211 0.36777176 0.56533419 0.50879988 0.36042719]\n",
      "  [0.10269564 0.2233589  0.10354141 0.11890294 0.01083139]\n",
      "  [0.19352216 0.08599981 0.07637609 0.00626982 0.16026747]\n",
      "  [0.50970621 0.73378893 0.41273434 0.34033246 0.29642951]]\n",
      "\n",
      " [[0.38326802 0.47267085 0.16106601 0.09745275 0.47689471]\n",
      "  [0.00814332 0.00258024 0.00355068 0.00437095 0.01253697]\n",
      "  [0.45865958 0.11190216 0.09194204 0.36312862 0.29046929]\n",
      "  [0.01906885 0.04167942 0.03179436 0.00460241 0.01730083]\n",
      "  [0.04530321 0.31943133 0.23373044 0.27854065 0.31083481]]] \n",
      "\n",
      "(2, 3)\n",
      "(2, 3, 1)\n",
      "(2, 1, 3)\n",
      "(1, 2, 3)\n",
      "(2, 1, 3, 1)\n"
     ]
    }
   ],
   "source": [
    "# 不同维度数组相乘——增加至相同维度\n",
    "import numpy as np\n",
    "b = np.random.random((5, 5, 5))\n",
    "c = np.random.random((5, 5))\n",
    "print(b * c[:, :, np.newaxis], '\\n')\n",
    "print(b * c[..., np.newaxis], '\\n')\n",
    "\n",
    "a = np.random.random((2, 3))\n",
    "print(a.shape)\n",
    "print(a[:,:,np.newaxis].shape)\n",
    "print(a[:,np.newaxis,:].shape)\n",
    "print(a[np.newaxis,:,:].shape)\n",
    "print(a[:,np.newaxis,:,np.newaxis].shape)"
   ]
  },
  {
   "cell_type": "code",
   "execution_count": 65,
   "metadata": {},
   "outputs": [
    {
     "name": "stdout",
     "output_type": "stream",
     "text": [
      "[[0.29875243 0.29337801 0.32039403 0.49063793]\n",
      " [0.30391071 0.00359911 0.07103635 0.55312749]\n",
      " [0.33709248 0.87252497 0.80103287 0.37983909]] \n",
      "\n",
      "[[0.29875243 0.29337801 0.32039403 0.49063793]\n",
      " [0.33709248 0.87252497 0.80103287 0.37983909]\n",
      " [0.30391071 0.00359911 0.07103635 0.55312749]]\n"
     ]
    }
   ],
   "source": [
    "# 交换行\n",
    "import numpy as np\n",
    "\n",
    "a = np.random.random((3, 4))\n",
    "print(a, '\\n')\n",
    "a[[1, 2]] = a[[2, 1]]\n",
    "print(a)"
   ]
  },
  {
   "cell_type": "code",
   "execution_count": 2,
   "metadata": {
    "scrolled": false
   },
   "outputs": [
    {
     "name": "stdout",
     "output_type": "stream",
     "text": [
      "[2.12132034 3.13049517 2.         0.98058068]\n",
      "[2.12132034 3.13049517 2.         0.98058068] \n",
      "\n",
      "[[ 2.32387316  0.85256423 10.0007167   0.9279537   0.02561792  5.47363851\n",
      "   1.62731081  2.1780307   9.57310066  4.56685985]\n",
      " [ 5.75863221  2.67648208  9.42805405  5.45192069  0.4780092   8.21067351\n",
      "   2.43530633  4.45756309  5.36269925  8.21909415]\n",
      " [10.2468784   7.15365724 12.12551531  8.4932309   3.94772961 12.65494434\n",
      "   3.94201467  8.78660133  3.52140897 12.67339896]\n",
      " [ 7.97817498  4.88764568 10.83654023  6.89383983  2.25467973 10.427238\n",
      "   3.09817612  6.62758035  4.531311   10.41497152]\n",
      " [ 6.4953307   3.89921321  2.64816644 16.37904754  9.16751713  5.78748986\n",
      "  16.49572871  0.26213639  8.23865902 10.10599556]\n",
      " [ 1.99137809  1.17118683  9.4659427   0.98164645  0.55596057  5.06005235\n",
      "   1.3693629   1.72607119  9.35369049  4.26780169]\n",
      " [ 4.45891574  1.75545237  0.98849991 12.59721882  8.38891921  4.49719737\n",
      "  12.63045474  0.572019    4.3399662   7.81876496]\n",
      " [ 8.79131379  6.11253738  0.70755527 16.28904379  5.7803641   8.55855009\n",
      "  15.08642154  3.25097006  7.08162864 12.20220438]\n",
      " [ 0.24571434  3.37449282  7.39603032  0.06999746  2.87729218  2.66219888\n",
      "   1.31996172  0.71594241  9.50083867  2.11459764]\n",
      " [ 4.9862098   7.6965239   5.89140973  5.55260645 15.05936312  4.6605535\n",
      "   8.60607725  9.37891842  0.3567463   1.62635987]]\n"
     ]
    }
   ],
   "source": [
    "## 2组点集描述一组线，并计算一点到各线的距离\n",
    "import numpy as np\n",
    "\n",
    "A = np.array([[1, 2], [1, 3], [2, 3], [2, 5]])\n",
    "B = np.array([[0, 3], [3, 2], [2, 1], [1, 0]])\n",
    "C = np.array([0, 0])\n",
    "#方法一：面积/底\n",
    "print(np.abs(np.cross(A - C, B - C, axis=1)) / np.linalg.norm(A - B, axis=1))\n",
    "\n",
    "#方法二：借助向量\n",
    "def distance(A, B, C):\n",
    "    AB = B - A\n",
    "    AC = C - A\n",
    "    ad = (AB * AC).sum(axis=1) / np.sqrt((AB ** 2).sum(axis=1))\n",
    "    h = np.sqrt((AC ** 2).sum(axis=1) - (ad ** 2))\n",
    "    return h\n",
    "print(distance(A, B, C), '\\n')\n",
    "\n",
    "\n",
    "## 2组点集P0, P1描述一组线，并计算点集p中各点到各线的距离\n",
    "P0 = np.random.uniform(-10, 10, (10, 2))\n",
    "P1 = np.random.uniform(-10, 10, (10, 2))\n",
    "p = np.random.uniform(-10, 10, (10, 2))\n",
    "print(np.array([distance(P0, P1, p_i) for p_i in p]))"
   ]
  },
  {
   "cell_type": "code",
   "execution_count": 23,
   "metadata": {
    "scrolled": false
   },
   "outputs": [
    {
     "name": "stdout",
     "output_type": "stream",
     "text": [
      "[[-1  1]\n",
      " [ 2 -1]\n",
      " [ 0 -2]\n",
      " [-1 -5]] \n",
      " [[-1 -2]\n",
      " [-1 -3]\n",
      " [-2 -3]\n",
      " [-2 -5]]\n",
      "[-0.70710678  0.4472136   3.          5.29513565] \n",
      "\n",
      "[2.12132034 3.13049517 2.         0.98058068]\n"
     ]
    }
   ],
   "source": [
    "A = np.array([[1, 2], [1, 3], [2, 3], [2, 5]])\n",
    "B = np.array([[0, 3], [3, 2], [2, 1], [1, 0]])\n",
    "C = np.array([0, 0])\n",
    "AB = B - A\n",
    "AC = C - A\n",
    "print(AB, '\\n', AC)\n",
    "AD = (AB * AC).sum(axis=1) / np.sqrt((AB ** 2).sum(axis=1))\n",
    "print(AD, '\\n')\n",
    "print(np.sqrt((AC ** 2).sum(axis=1) - (AD ** 2)))"
   ]
  },
  {
   "cell_type": "code",
   "execution_count": 41,
   "metadata": {},
   "outputs": [
    {
     "name": "stdout",
     "output_type": "stream",
     "text": [
      "[0 1 2 3 4 5 6 7 8 9]\n",
      "[1. 2. 3. 4. 5. 6. 7. 8.] \n",
      "\n",
      "[ 0.  1.  3.  6. 10. 15. 21. 28. 36. 45.]\n",
      "[ 0.  1.  3.  6.  9. 12. 15. 18. 21. 24.]\n"
     ]
    }
   ],
   "source": [
    "#使用滑动窗口计算数组平均值\n",
    "import numpy as np\n",
    "\n",
    "def moving_average(a, n=3):\n",
    "    '''每3个连续数的平均值'''\n",
    "    ret = np.cumsum(a, dtype=float)\n",
    "    ret[n:] = ret[n:] - ret[:-n]\n",
    "    return ret[n - 1:] / n\n",
    "\n",
    "z = np.arange(10)\n",
    "print(z)\n",
    "#print(np.cumsum(z))\n",
    "print(moving_average(z, n=3), '\\n')\n",
    "\n",
    "ret = np.cumsum(z, dtype=float)\n",
    "print(ret)\n",
    "ret[3:] = ret[3:] - ret[:-3]\n",
    "print(ret)"
   ]
  },
  {
   "cell_type": "code",
   "execution_count": 9,
   "metadata": {},
   "outputs": [
    {
     "name": "stdout",
     "output_type": "stream",
     "text": [
      "[slice(1, 5, None), slice(1, 5, None)]\n",
      "[[6 3 3 5 2 7 5 7 7 4]\n",
      " [9 6 0 8 5 1 4 5 2 8]\n",
      " [8 1 1 8 1 4 2 8 4 5]\n",
      " [3 7 9 9 8 0 8 4 8 1]\n",
      " [6 7 8 8 2 8 1 6 1 1]\n",
      " [3 5 5 2 8 9 1 4 7 0]\n",
      " [6 4 0 5 9 9 8 0 2 0]\n",
      " [4 2 3 9 1 5 5 1 9 7]\n",
      " [9 9 8 2 4 8 8 8 1 1]\n",
      " [1 3 1 5 3 0 1 5 6 5]]\n",
      "[[0 0 0 0 0]\n",
      " [0 6 3 3 5]\n",
      " [0 9 6 0 8]\n",
      " [0 8 1 1 8]\n",
      " [0 3 7 9 9]]\n"
     ]
    },
    {
     "name": "stderr",
     "output_type": "stream",
     "text": [
      "D:\\anaconda3\\lib\\site-packages\\ipykernel_launcher.py:27: FutureWarning: Using a non-tuple sequence for multidimensional indexing is deprecated; use `arr[tuple(seq)]` instead of `arr[seq]`. In the future this will be interpreted as an array index, `arr[np.array(seq)]`, which will result either in an error or a different result.\n"
     ]
    }
   ],
   "source": [
    "#提取固定大小的子矩阵\n",
    "import numpy as np\n",
    "\n",
    "Z = np.random.randint(0, 10, (10, 10))   #母矩阵\n",
    "shape = (5, 5)   #要提取的子矩阵大小\n",
    "fill = 0     #超出母矩阵的部分用0填补\n",
    "position = (1, 1)   #以位置（1,1）处为提取中心\n",
    "\n",
    "R = np.ones(shape, dtype=Z.dtype) * fill  #子矩阵的初始设置\n",
    "P = np.array(list(position)).astype(int)  #中心位置\n",
    "Rs = np.array(list(R.shape)).astype(int)  #子矩阵的大小\n",
    "Zs = np.array(list(Z.shape)).astype(int)  #母矩阵的大小\n",
    "\n",
    "R_start = np.zeros((len(shape),)).astype(int)  #提取位置在子矩阵中的相对起点的初始设置\n",
    "R_stop = np.array(list(shape)).astype(int)  #提取位置在子矩阵中的相对终点\n",
    "Z_start = P - Rs // 2   #提取位置在母矩阵中的相对起点\n",
    "Z_stop = P + Rs // 2 + Rs % 2  #提取位置在母矩阵中的相对终点\n",
    "\n",
    "R_start = (R_start - np.minimum(Z_start, 0)).tolist()  #提取位置在子矩阵中的起点\n",
    "Z_start = (np.maximum(Z_start, 0)).tolist() #提取位置在母矩阵中的起点\n",
    "R_stop = np.maximum(R_start, R_stop - np.maximum(Z_stop - Zs, 0)).tolist()\n",
    "Z_stop = np.minimum(Z_stop, Zs).tolist()\n",
    "\n",
    "r = [slice(start, stop) for start, stop in zip(R_start, R_stop)]\n",
    "z = [slice(start, stop) for start, stop in zip(Z_start, Z_stop)]\n",
    "print(r)\n",
    "R[r] = Z[z]\n",
    "print(Z)\n",
    "print(R)"
   ]
  },
  {
   "cell_type": "code",
   "execution_count": 57,
   "metadata": {
    "scrolled": true
   },
   "outputs": [
    {
     "name": "stdout",
     "output_type": "stream",
     "text": [
      "[ 1  2  3  4  5  6  7  8  9 10 11 12 13]\n",
      "[[ 1  2  3  4]\n",
      " [ 4  5  6  7]\n",
      " [ 7  8  9 10]\n",
      " [10 11 12 13]]\n",
      "[0 1 2 3] \n",
      "\n",
      "[1 2 3 4]\n",
      "[[ 1  2  3  4]\n",
      " [ 4  5  6  7]\n",
      " [ 7  8  9 10]\n",
      " [10 11 12 13]]\n"
     ]
    }
   ],
   "source": [
    "#对矩阵重新分区\n",
    "import numpy as np\n",
    "\n",
    "a = np.arange(1, 14, dtype=np.int8)   #int8与（3,1）是对应的\n",
    "print(a)\n",
    "\n",
    "#方法一\n",
    "b = np.lib.stride_tricks.as_strided(a, (4, 4), (3, 1))\n",
    "print(b)\n",
    "print(np.arange(4), '\\n')\n",
    "\n",
    "#方法二\n",
    "c = a[0:4]\n",
    "print(c)\n",
    "for i in np.arange(3):\n",
    "    c = np.vstack((c, a[(3 * i + 3):(3 * i + 7)]))\n",
    "print(c)"
   ]
  },
  {
   "cell_type": "code",
   "execution_count": 19,
   "metadata": {},
   "outputs": [
    {
     "name": "stdout",
     "output_type": "stream",
     "text": [
      "[[3 0 1 1 0]\n",
      " [1 2 2 1 0]\n",
      " [0 4 0 4 4]\n",
      " [3 3 0 0 2]\n",
      " [4 0 1 4 3]]\n",
      "[[[[3 0 1]\n",
      "   [1 2 2]\n",
      "   [0 4 0]]\n",
      "\n",
      "  [[0 1 1]\n",
      "   [2 2 1]\n",
      "   [4 0 4]]\n",
      "\n",
      "  [[1 1 0]\n",
      "   [2 1 0]\n",
      "   [0 4 4]]]\n",
      "\n",
      "\n",
      " [[[1 2 2]\n",
      "   [0 4 0]\n",
      "   [3 3 0]]\n",
      "\n",
      "  [[2 2 1]\n",
      "   [4 0 4]\n",
      "   [3 0 0]]\n",
      "\n",
      "  [[2 1 0]\n",
      "   [0 4 4]\n",
      "   [0 0 2]]]\n",
      "\n",
      "\n",
      " [[[0 4 0]\n",
      "   [3 3 0]\n",
      "   [4 0 1]]\n",
      "\n",
      "  [[4 0 4]\n",
      "   [3 0 0]\n",
      "   [0 1 4]]\n",
      "\n",
      "  [[0 4 4]\n",
      "   [0 0 2]\n",
      "   [1 4 3]]]] \n",
      "\n",
      "2\n",
      "[[3 0 1]\n",
      " [1 2 2]\n",
      " [0 4 0]]\n",
      "[[0 1 1]\n",
      " [2 2 1]\n",
      " [4 0 4]]\n",
      "[[1 1 0]\n",
      " [2 1 0]\n",
      " [0 4 4]]\n",
      "[[1 2 2]\n",
      " [0 4 0]\n",
      " [3 3 0]]\n",
      "[[2 2 1]\n",
      " [4 0 4]\n",
      " [3 0 0]]\n",
      "[[2 1 0]\n",
      " [0 4 4]\n",
      " [0 0 2]]\n",
      "[[0 4 0]\n",
      " [3 3 0]\n",
      " [4 0 1]]\n",
      "[[4 0 4]\n",
      " [3 0 0]\n",
      " [0 1 4]]\n",
      "[[0 4 4]\n",
      " [0 0 2]\n",
      " [1 4 3]]\n"
     ]
    }
   ],
   "source": [
    "#从一个10*10矩阵中抽取出所有相邻的3*3矩阵\n",
    "import numpy as np\n",
    "\n",
    "a = np.random.randint(0, 5, (5, 5)).astype(np.int8)\n",
    "print(a)\n",
    "\n",
    "#方法一\n",
    "b = np.lib.stride_tricks.as_strided(a, (3, 3, 3, 3), (5, 1, 5, 1))\n",
    "print(b, '\\n')\n",
    "#i = 1 + a.shape[0] - 3\n",
    "#j = 1 + a.shape[1] - 3\n",
    "#b = np.lib.stride_tricks.as_strided(a, (i, j, 3, 3), strides=a.strides + a.strides)\n",
    "\n",
    "#方法二\n",
    "for i in np.arange(3):\n",
    "    for j in np.arange(3):\n",
    "        print(a[i:i+3, j:j+3])\n"
   ]
  },
  {
   "cell_type": "code",
   "execution_count": 37,
   "metadata": {
    "scrolled": false
   },
   "outputs": [
    {
     "name": "stdout",
     "output_type": "stream",
     "text": [
      "[[16. 16. 16. 16.]\n",
      " [16. 16. 16. 16.]\n",
      " [16. 16. 16. 16.]\n",
      " [16. 16. 16. 16.]]\n"
     ]
    }
   ],
   "source": [
    "# 对一个16*16的矩阵，进行4*4分块求和\n",
    "import numpy as np\n",
    "\n",
    "a = np.ones((16, 16))\n",
    "s = np.add.reduceat(np.add.reduceat(a, np.arange(0, a.shape[1], 4), axis=1),\n",
    "                   np.arange(0, a.shape[0], 4), axis=0)\n",
    "print(s)"
   ]
  },
  {
   "cell_type": "code",
   "execution_count": 26,
   "metadata": {},
   "outputs": [
    {
     "name": "stdout",
     "output_type": "stream",
     "text": [
      "100\n",
      "[[50.]\n",
      " [50.]\n",
      " [50.]\n",
      " [50.]\n",
      " [50.]]\n",
      "[[1. 1. 1. 1. 1.]\n",
      " [1. 1. 1. 1. 1.]\n",
      " [1. 1. 1. 1. 1.]\n",
      " [1. 1. 1. 1. 1.]\n",
      " [1. 1. 1. 1. 1.]\n",
      " [1. 1. 1. 1. 1.]\n",
      " [1. 1. 1. 1. 1.]\n",
      " [1. 1. 1. 1. 1.]\n",
      " [1. 1. 1. 1. 1.]\n",
      " [1. 1. 1. 1. 1.]] \n",
      " [[1. 1. 1. 1. 1.]\n",
      " [1. 1. 1. 1. 1.]\n",
      " [1. 1. 1. 1. 1.]\n",
      " [1. 1. 1. 1. 1.]\n",
      " [1. 1. 1. 1. 1.]\n",
      " [1. 1. 1. 1. 1.]\n",
      " [1. 1. 1. 1. 1.]\n",
      " [1. 1. 1. 1. 1.]\n",
      " [1. 1. 1. 1. 1.]\n",
      " [1. 1. 1. 1. 1.]] \n",
      " 50.0\n"
     ]
    }
   ],
   "source": [
    "#计算矩阵的秩\n",
    "import numpy as np\n",
    "\n",
    "a = np.random.uniform(0, 1, (100, 100))\n",
    "U, S, V = np.linalg.svd(a)  #奇异值分解\n",
    "#print(U, S, V)\n",
    "rank = np.sum(S > 1e-10)\n",
    "print(rank)\n",
    "\n",
    "#计算张量乘法\n",
    "A = np.ones((10, 5, 5))\n",
    "B = np.ones((10, 5, 1))\n",
    "C = np.tensordot(A, B, [(0, 2), (0, 1)])\n",
    "print(C)\n",
    "\n",
    "#a = A[:,0,:]\n",
    "#b = B[:,:,0]\n",
    "#print(a, '\\n', b, '\\n', np.sum(a * b))"
   ]
  },
  {
   "cell_type": "code",
   "execution_count": 52,
   "metadata": {},
   "outputs": [
    {
     "name": "stdout",
     "output_type": "stream",
     "text": [
      "[46 47 48 49] \n",
      "\n",
      "[47 48 49 46]\n"
     ]
    }
   ],
   "source": [
    "#从数组中找出最大的n个值\n",
    "import numpy as np\n",
    "\n",
    "a = np.arange(50)\n",
    "np.random.shuffle(a)  #随机打乱a中元素顺序\n",
    "\n",
    "#方法一（慢）\n",
    "b = np.argsort(a)  #返回a中元素从小到大排序的索引\n",
    "print(a[b[-4:]], '\\n')  #最后4个即最大的4个数\n",
    "\n",
    "#方法二（快）\n",
    "c = np.argpartition(-a, 4)\n",
    "print(a[c[:4]], '\\n')\n",
    "\n",
    "#关于argpartition\n",
    "a = np.random.randint(1, 14, 6)\n",
    "print(a)\n",
    "b = np.argpartition(-a, 4)\n",
    "print(b,'\\n',a[b[:4]])\n",
    "c = np.argpartition(a, 4)\n",
    "print(c,'\\n',a[c[:4]])"
   ]
  },
  {
   "cell_type": "code",
   "execution_count": 75,
   "metadata": {},
   "outputs": [
    {
     "name": "stdout",
     "output_type": "stream",
     "text": [
      "[7 4 7 0 2 8 5 8 8 6]\n",
      "[343  64 343   0   8 512 125 512 512 216]\n",
      "[343  64 343   0   8 512 125 512 512 216]\n",
      "[343  64 343   0   8 512 125 512 512 216]\n",
      "[343  64 343   0   8 512 125 512 512 216]\n"
     ]
    }
   ],
   "source": [
    "#计算向量中每个元素的立方\n",
    "import numpy as np\n",
    "\n",
    "a = np.random.randint(0, 10, 10)\n",
    "print(a)\n",
    "\n",
    "print(a ** 3)\n",
    "print(np.power(a, 3))\n",
    "print(a * a * a)\n",
    "print(np.einsum('i,i,i->i', a, a, a))"
   ]
  },
  {
   "cell_type": "code",
   "execution_count": 81,
   "metadata": {
    "scrolled": true
   },
   "outputs": [
    {
     "name": "stdout",
     "output_type": "stream",
     "text": [
      "[[0 4 1]\n",
      " [2 2 3]\n",
      " [1 3 3]\n",
      " [1 4 3]\n",
      " [3 0 2]\n",
      " [3 3 4]\n",
      " [0 0 1]\n",
      " [4 3 4]\n",
      " [2 1 2]\n",
      " [4 1 4]] \n",
      "\n",
      "[[0 4 1]\n",
      " [2 2 3]\n",
      " [1 3 3]\n",
      " [1 4 3]\n",
      " [3 0 2]\n",
      " [3 3 4]\n",
      " [0 0 1]\n",
      " [4 3 4]\n",
      " [2 1 2]\n",
      " [4 1 4]] \n",
      "\n",
      "[[0 4 1]\n",
      " [2 2 3]\n",
      " [1 3 3]\n",
      " [1 4 3]\n",
      " [3 0 2]\n",
      " [3 3 4]\n",
      " [0 0 1]\n",
      " [4 3 4]\n",
      " [2 1 2]\n",
      " [4 1 4]] \n",
      "\n"
     ]
    }
   ],
   "source": [
    "# 去除数组中由相同元素组成的行（如[2, 2, 2]）\n",
    "import numpy as np\n",
    "\n",
    "a = np.random.randint(0, 5, (10, 3))\n",
    "print(a, '\\n')\n",
    "\n",
    "#方法一：若后两个元素与前两个元素完全相同，则认为这一行是相同元素\n",
    "print(a[~np.all(a[:, 1:] == a[:, :-1], axis=1)], '\\n')\n",
    "\n",
    "#方法二：若最小值=最大值\n",
    "print(a[a.max(axis=1) != a.min(axis=1), :], '\\n')"
   ]
  },
  {
   "cell_type": "code",
   "execution_count": 17,
   "metadata": {},
   "outputs": [
    {
     "name": "stdout",
     "output_type": "stream",
     "text": [
      "[[0 2 3]\n",
      " [1 2 2]\n",
      " [0 2 3]]\n",
      "[[0 2 3]\n",
      " [1 2 2]]\n",
      "[[0 2 3]\n",
      " [1 2 2]]\n"
     ]
    }
   ],
   "source": [
    "#从二维矩阵中去除重复的行\n",
    "import numpy as np\n",
    "\n",
    "a = np.array([[0, 2, 3], [1, 2, 2], [0, 2, 3]])\n",
    "print(a)\n",
    "\n",
    "#方法一\n",
    "b = np.ascontiguousarray(a).view(np.dtype((np.void, a.dtype.itemsize * a.shape[1])))\n",
    "#print(b, b.flags)\n",
    "d, e = np.unique(b, return_index=True)\n",
    "print(a[e])\n",
    "\n",
    "#方法二\n",
    "print(np.unique(a, axis=0))"
   ]
  },
  {
   "cell_type": "code",
   "execution_count": 19,
   "metadata": {
    "scrolled": true
   },
   "outputs": [
    {
     "name": "stdout",
     "output_type": "stream",
     "text": [
      "1.7048251590355092\n",
      "[0.26286912 0.01039578 0.31834908 0.31024494]\n",
      "0.9018589213761129\n",
      "[[0.26286912 0.05686967 0.15162879 0.25478504]\n",
      " [0.0480525  0.01039578 0.02771776 0.04657473]\n",
      " [0.5519014  0.11939954 0.31834908 0.53492863]\n",
      " [0.32008871 0.06924868 0.18463433 0.31024494]]\n"
     ]
    }
   ],
   "source": [
    "#einsum函数\n",
    "import numpy as np\n",
    "\n",
    "a = np.random.uniform(0, 1, 4)\n",
    "b = np.random.uniform(0, 1, 4)\n",
    "\n",
    "print(np.einsum('i->', a))  #求和\n",
    "print(np.einsum('i,i->i', a, b))  #矩阵相乘\n",
    "print(np.einsum('i,i', a, b))  #内积\n",
    "print(np.einsum('i,j->ij', a, b))  #外积"
   ]
  },
  {
   "cell_type": "code",
   "execution_count": 9,
   "metadata": {
    "scrolled": true
   },
   "outputs": [
    {
     "data": {
      "image/png": "[encoded data removed]",
      "text/plain": [
       "<Figure size 432x288 with 1 Axes>"
      ]
     },
     "metadata": {
      "needs_background": "light"
     },
     "output_type": "display_data"
    },
    {
     "data": {
      "image/png": "[encoded data removed]",
      "text/plain": [
       "<Figure size 432x288 with 1 Axes>"
      ]
     },
     "metadata": {
      "needs_background": "light"
     },
     "output_type": "display_data"
    }
   ],
   "source": [
    "## 一维线性插值\n",
    "import numpy as np\n",
    "import matplotlib.pyplot as plt\n",
    "\n",
    "#e.g.1\n",
    "x = np.linspace(0, 2 * np.pi, 10)\n",
    "y = np.sin(x)\n",
    "xvals = np.linspace(0, 2 * np.pi, 50)\n",
    "yvals = np.interp(xvals, x, y)\n",
    "plt.plot(x, y, 'o')\n",
    "plt.plot(xvals, yvals, '-x')\n",
    "plt.show()\n",
    "\n",
    "#e.g.2\n",
    "phi = np.arange(0, 10 * np.pi, 0.1)\n",
    "a = 1\n",
    "x = a * phi * np.cos(phi)\n",
    "y = a * phi * np.sin(phi)\n",
    "dr = (np.diff(x) ** 2 + np.diff(y) ** 2) **.5\n",
    "r = np.zeros_like(x)\n",
    "r[1:] = np.cumsum(dr)\n",
    "#print(r)\n",
    "r_int = np.linspace(0, r.max(), 80)\n",
    "x_int = np.interp(r_int, r, x)  #插值\n",
    "y_int = np.interp(r_int, r, y)\n",
    "plt.subplot(133)\n",
    "plt.plot(x, y, x_int, y_int)\n",
    "plt.show()"
   ]
  },
  {
   "cell_type": "code",
   "execution_count": 14,
   "metadata": {},
   "outputs": [
    {
     "name": "stdout",
     "output_type": "stream",
     "text": [
      "[[0. 1. 2. 1.]]\n"
     ]
    }
   ],
   "source": [
    "#给定整数n和二维数组X，从X中找出满足条件的行：\n",
    "#仅包含整数，且和为n\n",
    "import numpy as np\n",
    "\n",
    "X = np.array([[1, 2, 1, 5], [0, 1, 2, 1], [2.2, 0, 0.8, 1]])\n",
    "n = 4\n",
    "#print(np.mod(X, 1) == 0)   #判断整数\n",
    "M = np.logical_and.reduce(np.mod(X, 1) == 0, axis=-1)\n",
    "M &= (X.sum(axis=-1) == n)\n",
    "print(X[M])\n"
   ]
  },
  {
   "cell_type": "code",
   "execution_count": 15,
   "metadata": {},
   "outputs": [
    {
     "name": "stdout",
     "output_type": "stream",
     "text": [
      "[-0.05023965  0.25920785]\n"
     ]
    }
   ],
   "source": [
    "#计算一维数组在95%置信区间上的算术平均值\n",
    "import numpy as np\n",
    "\n",
    "a = np.random.randn(100)\n",
    "N = 1000\n",
    "idx = np.random.randint(0, a.size, (N, a.size))\n",
    "means = np.mean(a[idx], axis=1)\n",
    "\n",
    "confint = np.percentile(means, [2.5, 97.5])\n",
    "print(confint)"
   ]
  },
  {
   "cell_type": "code",
   "execution_count": null,
   "metadata": {},
   "outputs": [],
   "source": []
  }
 ],
 "metadata": {
  "kernelspec": {
   "display_name": "Python 3",
   "language": "python",
   "name": "python3"
  },
  "language_info": {
   "codemirror_mode": {
    "name": "ipython",
    "version": 3
   },
   "file_extension": ".py",
   "mimetype": "text/x-python",
   "name": "python",
   "nbconvert_exporter": "python",
   "pygments_lexer": "ipython3",
   "version": "3.7.4"
  }
 },
 "nbformat": 4,
 "nbformat_minor": 2
}
